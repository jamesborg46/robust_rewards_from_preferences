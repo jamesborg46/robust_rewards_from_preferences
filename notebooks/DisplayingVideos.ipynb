{
 "cells": [
  {
   "cell_type": "code",
   "execution_count": 5,
   "id": "useful-significance",
   "metadata": {},
   "outputs": [],
   "source": [
    "from IPython.display import HTML\n",
    "import os\n",
    "import os.path as osp\n",
    "from collections import defaultdict"
   ]
  },
  {
   "cell_type": "code",
   "execution_count": 6,
   "id": "virtual-budget",
   "metadata": {},
   "outputs": [],
   "source": [
    "EXP = 'TEST_Sun_Feb__7_12:47:43_2021Sun_Feb__7_12:47:43_2021'\n",
    "EPOCH = 400\n",
    "DIR = osp.join('./experiment', EXP, 'videos')\n",
    "\n",
    "filenames = [file for file in os.listdir(DIR) if file.endswith('.mp4')]"
   ]
  },
  {
   "cell_type": "code",
   "execution_count": 7,
   "id": "wound-tension",
   "metadata": {},
   "outputs": [],
   "source": [
    "def vid_info(fname):\n",
    "    split = fname.strip('.mp4').split('_')\n",
    "    info = dict()\n",
    "    for i in range(0, len(split), 2):\n",
    "        key = split[i]\n",
    "        value = split[i+1]\n",
    "        info[key] = value\n",
    "    info['fname'] = fname\n",
    "    return info\n",
    "\n",
    "def get_video_html(fname, title):\n",
    "    return f'<td><video width=\"320\" height=\"320\" controls autoplay loop><source src=\"{fname}\" type=\"video/mp4\"></video><div><center>{title}</center></div></td>'\n"
   ]
  },
  {
   "cell_type": "code",
   "execution_count": 5,
   "id": "hispanic-lancaster",
   "metadata": {},
   "outputs": [],
   "source": [
    "# Skills visualization\n",
    "vids = defaultdict(lambda: defaultdict(list))\n",
    "\n",
    "num_skills = 0\n",
    "\n",
    "for f in filenames:\n",
    "    info = vid_info(f)\n",
    "    vids[int(info['epoch'])][int(info['skill'])].append(info['fname'])\n",
    "    \n",
    "    if (int(info['skill']) + 1) > num_skills:\n",
    "        num_skills = int(info['skill']) + 1\n",
    "        \n",
    "EPOCH = 400\n",
    "epoch_vids = vids[EPOCH]\n",
    "eps_per_skill = max([len(eps) for eps in epoch_vids.values()])\n",
    "COLUMNS = eps_per_skill\n",
    "\n",
    "html = \"<table><tr>\"\n",
    "\n",
    "elements = 0\n",
    "\n",
    "for skill in sorted(epoch_vids.keys()):\n",
    "    for fname in epoch_vids[skill]:\n",
    "        html += get_video_html(osp.join(DIR, fname), skill)\n",
    "    html += \"</tr><tr>\"\n",
    "    \n",
    "html += \"</tr></table>\""
   ]
  },
  {
   "cell_type": "code",
   "execution_count": 8,
   "id": "global-respondent",
   "metadata": {},
   "outputs": [],
   "source": [
    "# Regular visualization\n",
    "vids = defaultdict(list)\n",
    "\n",
    "\n",
    "for f in filenames:\n",
    "    info = vid_info(f)\n",
    "    vids[int(info['epoch'])].append(info['fname'])\n",
    "\n",
    "        \n",
    "EPOCH = 3\n",
    "epoch_vids = vids[EPOCH]\n",
    "COLUMNS = 5\n",
    "\n",
    "html = \"<table><tr>\"\n",
    "\n",
    "elements = 0\n",
    "\n",
    "\n",
    "for i, fname in enuemrate(epoch_vids):\n",
    "    html += get_video_html(osp.join(DIR, fname), skill)\n",
    "    \n",
    "    if ii % COLUMNS == 0:\n",
    "    html += \"</tr><tr>\"\n",
    "    \n",
    "html += \"</tr></table>\""
   ]
  },
  {
   "cell_type": "code",
   "execution_count": 9,
   "id": "disturbed-nirvana",
   "metadata": {},
   "outputs": [
    {
     "ename": "AttributeError",
     "evalue": "'list' object has no attribute 'keys'",
     "output_type": "error",
     "traceback": [
      "\u001b[0;31m---------------------------------------------------------------------------\u001b[0m",
      "\u001b[0;31mAttributeError\u001b[0m                            Traceback (most recent call last)",
      "\u001b[0;32m<ipython-input-9-1ac7d2dc43db>\u001b[0m in \u001b[0;36m<module>\u001b[0;34m\u001b[0m\n\u001b[1;32m      3\u001b[0m \u001b[0melements\u001b[0m \u001b[0;34m=\u001b[0m \u001b[0;36m0\u001b[0m\u001b[0;34m\u001b[0m\u001b[0;34m\u001b[0m\u001b[0m\n\u001b[1;32m      4\u001b[0m \u001b[0;34m\u001b[0m\u001b[0m\n\u001b[0;32m----> 5\u001b[0;31m \u001b[0;32mfor\u001b[0m \u001b[0mskill\u001b[0m \u001b[0;32min\u001b[0m \u001b[0msorted\u001b[0m\u001b[0;34m(\u001b[0m\u001b[0mepoch_vids\u001b[0m\u001b[0;34m.\u001b[0m\u001b[0mkeys\u001b[0m\u001b[0;34m(\u001b[0m\u001b[0;34m)\u001b[0m\u001b[0;34m)\u001b[0m\u001b[0;34m:\u001b[0m\u001b[0;34m\u001b[0m\u001b[0;34m\u001b[0m\u001b[0m\n\u001b[0m\u001b[1;32m      6\u001b[0m     \u001b[0;32mfor\u001b[0m \u001b[0mfname\u001b[0m \u001b[0;32min\u001b[0m \u001b[0mepoch_vids\u001b[0m\u001b[0;34m[\u001b[0m\u001b[0mskill\u001b[0m\u001b[0;34m]\u001b[0m\u001b[0;34m:\u001b[0m\u001b[0;34m\u001b[0m\u001b[0;34m\u001b[0m\u001b[0m\n\u001b[1;32m      7\u001b[0m         \u001b[0mhtml\u001b[0m \u001b[0;34m+=\u001b[0m \u001b[0mget_video_html\u001b[0m\u001b[0;34m(\u001b[0m\u001b[0mosp\u001b[0m\u001b[0;34m.\u001b[0m\u001b[0mjoin\u001b[0m\u001b[0;34m(\u001b[0m\u001b[0mDIR\u001b[0m\u001b[0;34m,\u001b[0m \u001b[0mfname\u001b[0m\u001b[0;34m)\u001b[0m\u001b[0;34m,\u001b[0m \u001b[0;34m\"\"\u001b[0m\u001b[0;34m)\u001b[0m\u001b[0;34m\u001b[0m\u001b[0;34m\u001b[0m\u001b[0m\n",
      "\u001b[0;31mAttributeError\u001b[0m: 'list' object has no attribute 'keys'"
     ]
    }
   ],
   "source": []
  },
  {
   "cell_type": "code",
   "execution_count": 7,
   "id": "brutal-weather",
   "metadata": {},
   "outputs": [
    {
     "data": {
      "text/html": [
       "<table><tr><td><video width=\"320\" height=\"320\" controls autoplay loop><source src=\"./experiment/DIVERSITY_RUN_0_Thu_Feb__4_07:46:02_2021/videos/epoch_0400_worker_08_skill_00_id_01.mp4\" type=\"video/mp4\"></video><div><center>0</center></div></td><td><video width=\"320\" height=\"320\" controls autoplay loop><source src=\"./experiment/DIVERSITY_RUN_0_Thu_Feb__4_07:46:02_2021/videos/epoch_0400_worker_09_skill_00_id_01.mp4\" type=\"video/mp4\"></video><div><center>0</center></div></td><td><video width=\"320\" height=\"320\" controls autoplay loop><source src=\"./experiment/DIVERSITY_RUN_0_Thu_Feb__4_07:46:02_2021/videos/epoch_0400_worker_07_skill_00_id_01.mp4\" type=\"video/mp4\"></video><div><center>0</center></div></td></tr><tr><td><video width=\"320\" height=\"320\" controls autoplay loop><source src=\"./experiment/DIVERSITY_RUN_0_Thu_Feb__4_07:46:02_2021/videos/epoch_0400_worker_09_skill_01_id_01.mp4\" type=\"video/mp4\"></video><div><center>1</center></div></td><td><video width=\"320\" height=\"320\" controls autoplay loop><source src=\"./experiment/DIVERSITY_RUN_0_Thu_Feb__4_07:46:02_2021/videos/epoch_0400_worker_08_skill_01_id_01.mp4\" type=\"video/mp4\"></video><div><center>1</center></div></td><td><video width=\"320\" height=\"320\" controls autoplay loop><source src=\"./experiment/DIVERSITY_RUN_0_Thu_Feb__4_07:46:02_2021/videos/epoch_0400_worker_00_skill_01_id_01.mp4\" type=\"video/mp4\"></video><div><center>1</center></div></td></tr><tr><td><video width=\"320\" height=\"320\" controls autoplay loop><source src=\"./experiment/DIVERSITY_RUN_0_Thu_Feb__4_07:46:02_2021/videos/epoch_0400_worker_00_skill_02_id_01.mp4\" type=\"video/mp4\"></video><div><center>2</center></div></td><td><video width=\"320\" height=\"320\" controls autoplay loop><source src=\"./experiment/DIVERSITY_RUN_0_Thu_Feb__4_07:46:02_2021/videos/epoch_0400_worker_08_skill_02_id_01.mp4\" type=\"video/mp4\"></video><div><center>2</center></div></td><td><video width=\"320\" height=\"320\" controls autoplay loop><source src=\"./experiment/DIVERSITY_RUN_0_Thu_Feb__4_07:46:02_2021/videos/epoch_0400_worker_09_skill_02_id_01.mp4\" type=\"video/mp4\"></video><div><center>2</center></div></td></tr><tr><td><video width=\"320\" height=\"320\" controls autoplay loop><source src=\"./experiment/DIVERSITY_RUN_0_Thu_Feb__4_07:46:02_2021/videos/epoch_0400_worker_00_skill_03_id_01.mp4\" type=\"video/mp4\"></video><div><center>3</center></div></td><td><video width=\"320\" height=\"320\" controls autoplay loop><source src=\"./experiment/DIVERSITY_RUN_0_Thu_Feb__4_07:46:02_2021/videos/epoch_0400_worker_01_skill_03_id_01.mp4\" type=\"video/mp4\"></video><div><center>3</center></div></td><td><video width=\"320\" height=\"320\" controls autoplay loop><source src=\"./experiment/DIVERSITY_RUN_0_Thu_Feb__4_07:46:02_2021/videos/epoch_0400_worker_09_skill_03_id_01.mp4\" type=\"video/mp4\"></video><div><center>3</center></div></td></tr><tr><td><video width=\"320\" height=\"320\" controls autoplay loop><source src=\"./experiment/DIVERSITY_RUN_0_Thu_Feb__4_07:46:02_2021/videos/epoch_0400_worker_09_skill_04_id_01.mp4\" type=\"video/mp4\"></video><div><center>4</center></div></td><td><video width=\"320\" height=\"320\" controls autoplay loop><source src=\"./experiment/DIVERSITY_RUN_0_Thu_Feb__4_07:46:02_2021/videos/epoch_0400_worker_01_skill_04_id_01.mp4\" type=\"video/mp4\"></video><div><center>4</center></div></td><td><video width=\"320\" height=\"320\" controls autoplay loop><source src=\"./experiment/DIVERSITY_RUN_0_Thu_Feb__4_07:46:02_2021/videos/epoch_0400_worker_00_skill_04_id_01.mp4\" type=\"video/mp4\"></video><div><center>4</center></div></td></tr><tr><td><video width=\"320\" height=\"320\" controls autoplay loop><source src=\"./experiment/DIVERSITY_RUN_0_Thu_Feb__4_07:46:02_2021/videos/epoch_0400_worker_02_skill_05_id_01.mp4\" type=\"video/mp4\"></video><div><center>5</center></div></td><td><video width=\"320\" height=\"320\" controls autoplay loop><source src=\"./experiment/DIVERSITY_RUN_0_Thu_Feb__4_07:46:02_2021/videos/epoch_0400_worker_00_skill_05_id_01.mp4\" type=\"video/mp4\"></video><div><center>5</center></div></td><td><video width=\"320\" height=\"320\" controls autoplay loop><source src=\"./experiment/DIVERSITY_RUN_0_Thu_Feb__4_07:46:02_2021/videos/epoch_0400_worker_01_skill_05_id_01.mp4\" type=\"video/mp4\"></video><div><center>5</center></div></td></tr><tr><td><video width=\"320\" height=\"320\" controls autoplay loop><source src=\"./experiment/DIVERSITY_RUN_0_Thu_Feb__4_07:46:02_2021/videos/epoch_0400_worker_01_skill_06_id_01.mp4\" type=\"video/mp4\"></video><div><center>6</center></div></td><td><video width=\"320\" height=\"320\" controls autoplay loop><source src=\"./experiment/DIVERSITY_RUN_0_Thu_Feb__4_07:46:02_2021/videos/epoch_0400_worker_02_skill_06_id_01.mp4\" type=\"video/mp4\"></video><div><center>6</center></div></td><td><video width=\"320\" height=\"320\" controls autoplay loop><source src=\"./experiment/DIVERSITY_RUN_0_Thu_Feb__4_07:46:02_2021/videos/epoch_0400_worker_00_skill_06_id_01.mp4\" type=\"video/mp4\"></video><div><center>6</center></div></td></tr><tr><td><video width=\"320\" height=\"320\" controls autoplay loop><source src=\"./experiment/DIVERSITY_RUN_0_Thu_Feb__4_07:46:02_2021/videos/epoch_0400_worker_02_skill_07_id_01.mp4\" type=\"video/mp4\"></video><div><center>7</center></div></td><td><video width=\"320\" height=\"320\" controls autoplay loop><source src=\"./experiment/DIVERSITY_RUN_0_Thu_Feb__4_07:46:02_2021/videos/epoch_0400_worker_03_skill_07_id_01.mp4\" type=\"video/mp4\"></video><div><center>7</center></div></td><td><video width=\"320\" height=\"320\" controls autoplay loop><source src=\"./experiment/DIVERSITY_RUN_0_Thu_Feb__4_07:46:02_2021/videos/epoch_0400_worker_01_skill_07_id_01.mp4\" type=\"video/mp4\"></video><div><center>7</center></div></td></tr><tr><td><video width=\"320\" height=\"320\" controls autoplay loop><source src=\"./experiment/DIVERSITY_RUN_0_Thu_Feb__4_07:46:02_2021/videos/epoch_0400_worker_02_skill_08_id_01.mp4\" type=\"video/mp4\"></video><div><center>8</center></div></td><td><video width=\"320\" height=\"320\" controls autoplay loop><source src=\"./experiment/DIVERSITY_RUN_0_Thu_Feb__4_07:46:02_2021/videos/epoch_0400_worker_01_skill_08_id_01.mp4\" type=\"video/mp4\"></video><div><center>8</center></div></td><td><video width=\"320\" height=\"320\" controls autoplay loop><source src=\"./experiment/DIVERSITY_RUN_0_Thu_Feb__4_07:46:02_2021/videos/epoch_0400_worker_03_skill_08_id_01.mp4\" type=\"video/mp4\"></video><div><center>8</center></div></td></tr><tr><td><video width=\"320\" height=\"320\" controls autoplay loop><source src=\"./experiment/DIVERSITY_RUN_0_Thu_Feb__4_07:46:02_2021/videos/epoch_0400_worker_03_skill_09_id_01.mp4\" type=\"video/mp4\"></video><div><center>9</center></div></td><td><video width=\"320\" height=\"320\" controls autoplay loop><source src=\"./experiment/DIVERSITY_RUN_0_Thu_Feb__4_07:46:02_2021/videos/epoch_0400_worker_04_skill_09_id_01.mp4\" type=\"video/mp4\"></video><div><center>9</center></div></td><td><video width=\"320\" height=\"320\" controls autoplay loop><source src=\"./experiment/DIVERSITY_RUN_0_Thu_Feb__4_07:46:02_2021/videos/epoch_0400_worker_02_skill_09_id_01.mp4\" type=\"video/mp4\"></video><div><center>9</center></div></td></tr><tr><td><video width=\"320\" height=\"320\" controls autoplay loop><source src=\"./experiment/DIVERSITY_RUN_0_Thu_Feb__4_07:46:02_2021/videos/epoch_0400_worker_04_skill_10_id_01.mp4\" type=\"video/mp4\"></video><div><center>10</center></div></td><td><video width=\"320\" height=\"320\" controls autoplay loop><source src=\"./experiment/DIVERSITY_RUN_0_Thu_Feb__4_07:46:02_2021/videos/epoch_0400_worker_03_skill_10_id_01.mp4\" type=\"video/mp4\"></video><div><center>10</center></div></td><td><video width=\"320\" height=\"320\" controls autoplay loop><source src=\"./experiment/DIVERSITY_RUN_0_Thu_Feb__4_07:46:02_2021/videos/epoch_0400_worker_02_skill_10_id_01.mp4\" type=\"video/mp4\"></video><div><center>10</center></div></td></tr><tr><td><video width=\"320\" height=\"320\" controls autoplay loop><source src=\"./experiment/DIVERSITY_RUN_0_Thu_Feb__4_07:46:02_2021/videos/epoch_0400_worker_04_skill_11_id_01.mp4\" type=\"video/mp4\"></video><div><center>11</center></div></td><td><video width=\"320\" height=\"320\" controls autoplay loop><source src=\"./experiment/DIVERSITY_RUN_0_Thu_Feb__4_07:46:02_2021/videos/epoch_0400_worker_03_skill_11_id_01.mp4\" type=\"video/mp4\"></video><div><center>11</center></div></td><td><video width=\"320\" height=\"320\" controls autoplay loop><source src=\"./experiment/DIVERSITY_RUN_0_Thu_Feb__4_07:46:02_2021/videos/epoch_0400_worker_05_skill_11_id_01.mp4\" type=\"video/mp4\"></video><div><center>11</center></div></td></tr><tr><td><video width=\"320\" height=\"320\" controls autoplay loop><source src=\"./experiment/DIVERSITY_RUN_0_Thu_Feb__4_07:46:02_2021/videos/epoch_0400_worker_03_skill_12_id_01.mp4\" type=\"video/mp4\"></video><div><center>12</center></div></td><td><video width=\"320\" height=\"320\" controls autoplay loop><source src=\"./experiment/DIVERSITY_RUN_0_Thu_Feb__4_07:46:02_2021/videos/epoch_0400_worker_05_skill_12_id_01.mp4\" type=\"video/mp4\"></video><div><center>12</center></div></td><td><video width=\"320\" height=\"320\" controls autoplay loop><source src=\"./experiment/DIVERSITY_RUN_0_Thu_Feb__4_07:46:02_2021/videos/epoch_0400_worker_04_skill_12_id_01.mp4\" type=\"video/mp4\"></video><div><center>12</center></div></td></tr><tr><td><video width=\"320\" height=\"320\" controls autoplay loop><source src=\"./experiment/DIVERSITY_RUN_0_Thu_Feb__4_07:46:02_2021/videos/epoch_0400_worker_04_skill_13_id_01.mp4\" type=\"video/mp4\"></video><div><center>13</center></div></td><td><video width=\"320\" height=\"320\" controls autoplay loop><source src=\"./experiment/DIVERSITY_RUN_0_Thu_Feb__4_07:46:02_2021/videos/epoch_0400_worker_06_skill_13_id_01.mp4\" type=\"video/mp4\"></video><div><center>13</center></div></td><td><video width=\"320\" height=\"320\" controls autoplay loop><source src=\"./experiment/DIVERSITY_RUN_0_Thu_Feb__4_07:46:02_2021/videos/epoch_0400_worker_05_skill_13_id_01.mp4\" type=\"video/mp4\"></video><div><center>13</center></div></td></tr><tr><td><video width=\"320\" height=\"320\" controls autoplay loop><source src=\"./experiment/DIVERSITY_RUN_0_Thu_Feb__4_07:46:02_2021/videos/epoch_0400_worker_06_skill_14_id_01.mp4\" type=\"video/mp4\"></video><div><center>14</center></div></td><td><video width=\"320\" height=\"320\" controls autoplay loop><source src=\"./experiment/DIVERSITY_RUN_0_Thu_Feb__4_07:46:02_2021/videos/epoch_0400_worker_05_skill_14_id_01.mp4\" type=\"video/mp4\"></video><div><center>14</center></div></td><td><video width=\"320\" height=\"320\" controls autoplay loop><source src=\"./experiment/DIVERSITY_RUN_0_Thu_Feb__4_07:46:02_2021/videos/epoch_0400_worker_04_skill_14_id_01.mp4\" type=\"video/mp4\"></video><div><center>14</center></div></td></tr><tr><td><video width=\"320\" height=\"320\" controls autoplay loop><source src=\"./experiment/DIVERSITY_RUN_0_Thu_Feb__4_07:46:02_2021/videos/epoch_0400_worker_05_skill_15_id_01.mp4\" type=\"video/mp4\"></video><div><center>15</center></div></td><td><video width=\"320\" height=\"320\" controls autoplay loop><source src=\"./experiment/DIVERSITY_RUN_0_Thu_Feb__4_07:46:02_2021/videos/epoch_0400_worker_06_skill_15_id_01.mp4\" type=\"video/mp4\"></video><div><center>15</center></div></td><td><video width=\"320\" height=\"320\" controls autoplay loop><source src=\"./experiment/DIVERSITY_RUN_0_Thu_Feb__4_07:46:02_2021/videos/epoch_0400_worker_07_skill_15_id_01.mp4\" type=\"video/mp4\"></video><div><center>15</center></div></td></tr><tr><td><video width=\"320\" height=\"320\" controls autoplay loop><source src=\"./experiment/DIVERSITY_RUN_0_Thu_Feb__4_07:46:02_2021/videos/epoch_0400_worker_07_skill_16_id_01.mp4\" type=\"video/mp4\"></video><div><center>16</center></div></td><td><video width=\"320\" height=\"320\" controls autoplay loop><source src=\"./experiment/DIVERSITY_RUN_0_Thu_Feb__4_07:46:02_2021/videos/epoch_0400_worker_05_skill_16_id_01.mp4\" type=\"video/mp4\"></video><div><center>16</center></div></td><td><video width=\"320\" height=\"320\" controls autoplay loop><source src=\"./experiment/DIVERSITY_RUN_0_Thu_Feb__4_07:46:02_2021/videos/epoch_0400_worker_06_skill_16_id_01.mp4\" type=\"video/mp4\"></video><div><center>16</center></div></td></tr><tr><td><video width=\"320\" height=\"320\" controls autoplay loop><source src=\"./experiment/DIVERSITY_RUN_0_Thu_Feb__4_07:46:02_2021/videos/epoch_0400_worker_06_skill_17_id_01.mp4\" type=\"video/mp4\"></video><div><center>17</center></div></td><td><video width=\"320\" height=\"320\" controls autoplay loop><source src=\"./experiment/DIVERSITY_RUN_0_Thu_Feb__4_07:46:02_2021/videos/epoch_0400_worker_08_skill_17_id_01.mp4\" type=\"video/mp4\"></video><div><center>17</center></div></td><td><video width=\"320\" height=\"320\" controls autoplay loop><source src=\"./experiment/DIVERSITY_RUN_0_Thu_Feb__4_07:46:02_2021/videos/epoch_0400_worker_07_skill_17_id_01.mp4\" type=\"video/mp4\"></video><div><center>17</center></div></td></tr><tr><td><video width=\"320\" height=\"320\" controls autoplay loop><source src=\"./experiment/DIVERSITY_RUN_0_Thu_Feb__4_07:46:02_2021/videos/epoch_0400_worker_06_skill_18_id_01.mp4\" type=\"video/mp4\"></video><div><center>18</center></div></td><td><video width=\"320\" height=\"320\" controls autoplay loop><source src=\"./experiment/DIVERSITY_RUN_0_Thu_Feb__4_07:46:02_2021/videos/epoch_0400_worker_07_skill_18_id_01.mp4\" type=\"video/mp4\"></video><div><center>18</center></div></td><td><video width=\"320\" height=\"320\" controls autoplay loop><source src=\"./experiment/DIVERSITY_RUN_0_Thu_Feb__4_07:46:02_2021/videos/epoch_0400_worker_08_skill_18_id_01.mp4\" type=\"video/mp4\"></video><div><center>18</center></div></td></tr><tr><td><video width=\"320\" height=\"320\" controls autoplay loop><source src=\"./experiment/DIVERSITY_RUN_0_Thu_Feb__4_07:46:02_2021/videos/epoch_0400_worker_08_skill_19_id_01.mp4\" type=\"video/mp4\"></video><div><center>19</center></div></td><td><video width=\"320\" height=\"320\" controls autoplay loop><source src=\"./experiment/DIVERSITY_RUN_0_Thu_Feb__4_07:46:02_2021/videos/epoch_0400_worker_07_skill_19_id_01.mp4\" type=\"video/mp4\"></video><div><center>19</center></div></td><td><video width=\"320\" height=\"320\" controls autoplay loop><source src=\"./experiment/DIVERSITY_RUN_0_Thu_Feb__4_07:46:02_2021/videos/epoch_0400_worker_09_skill_19_id_01.mp4\" type=\"video/mp4\"></video><div><center>19</center></div></td></tr><tr></tr></table>"
      ],
      "text/plain": [
       "<IPython.core.display.HTML object>"
      ]
     },
     "execution_count": 7,
     "metadata": {},
     "output_type": "execute_result"
    }
   ],
   "source": [
    "from IPython.display import HTML\n",
    "HTML(html)"
   ]
  },
  {
   "cell_type": "code",
   "execution_count": null,
   "id": "running-invalid",
   "metadata": {},
   "outputs": [],
   "source": []
  }
 ],
 "metadata": {
  "kernelspec": {
   "display_name": "Python 3",
   "language": "python",
   "name": "python3"
  },
  "language_info": {
   "codemirror_mode": {
    "name": "ipython",
    "version": 3
   },
   "file_extension": ".py",
   "mimetype": "text/x-python",
   "name": "python",
   "nbconvert_exporter": "python",
   "pygments_lexer": "ipython3",
   "version": "3.8.5"
  }
 },
 "nbformat": 4,
 "nbformat_minor": 5
}
