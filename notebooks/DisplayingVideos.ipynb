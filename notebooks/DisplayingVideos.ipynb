{
 "cells": [
  {
   "cell_type": "code",
   "execution_count": 1,
   "id": "recorded-desktop",
   "metadata": {},
   "outputs": [],
   "source": [
    "from IPython.display import HTML"
   ]
  },
  {
   "cell_type": "code",
   "execution_count": 35,
   "id": "different-least",
   "metadata": {},
   "outputs": [
    {
     "data": {
      "text/html": [
       "\n",
       "<table>\n",
       "<tr>\n",
       "<td>\n",
       "<video width=\"320\" height=\"320\" controls autoplay loop>\n",
       "  <source src=\"experiments/COLLECTING_EPISODES_Fri_Jan_22_12:33:25_2021/videos/video1.mp4\" type=\"video/mp4\">\n",
       "</video>\n",
       "<div><center>Hello World</center></div>\n",
       "</td>\n",
       "<td>\n",
       "<video width=\"320\" height=\"320\" controls autoplay loop>\n",
       "  <source src=\"experiments/COLLECTING_EPISODES_Fri_Jan_22_12:33:25_2021/videos/video1.mp4\" type=\"video/mp4\">\n",
       "</video>\n",
       "<div><center>Hello World</center></div>\n",
       "</td>\n",
       "</tr>\n",
       "<tr>\n",
       "<td>\n",
       "<video width=\"320\" height=\"320\" controls autoplay loop>\n",
       "  <source src=\"experiments/COLLECTING_EPISODES_Fri_Jan_22_12:33:25_2021/videos/video1.mp4\" type=\"video/mp4\">\n",
       "</video>\n",
       "<div><center>Hello World</center></div>\n",
       "</td>\n",
       "<td>\n",
       "<video width=\"320\" height=\"320\" controls autoplay loop>\n",
       "  <source src=\"experiments/COLLECTING_EPISODES_Fri_Jan_22_12:33:25_2021/videos/video1.mp4\" type=\"video/mp4\">\n",
       "</video>\n",
       "<div><center>Hello World</center></div>\n",
       "</td>\n",
       "</tr>\n",
       "</table>\n"
      ],
      "text/plain": [
       "<IPython.core.display.HTML object>"
      ]
     },
     "execution_count": 35,
     "metadata": {},
     "output_type": "execute_result"
    }
   ],
   "source": [
    "from IPython.display import HTML\n",
    "HTML(\"\"\"\n",
    "<table>\n",
    "<tr>\n",
    "<td>\n",
    "<video width=\"320\" height=\"320\" controls autoplay loop>\n",
    "  <source src=\"experiments/COLLECTING_EPISODES_Fri_Jan_22_12:33:25_2021/videos/video1.mp4\" type=\"video/mp4\">\n",
    "</video>\n",
    "<div><center>Hello World</center></div>\n",
    "</td>\n",
    "<td>\n",
    "<video width=\"320\" height=\"320\" controls autoplay loop>\n",
    "  <source src=\"experiments/COLLECTING_EPISODES_Fri_Jan_22_12:33:25_2021/videos/video1.mp4\" type=\"video/mp4\">\n",
    "</video>\n",
    "<div><center>Hello World</center></div>\n",
    "</td>\n",
    "</tr>\n",
    "<tr>\n",
    "<td>\n",
    "<video width=\"320\" height=\"320\" controls autoplay loop>\n",
    "  <source src=\"experiments/COLLECTING_EPISODES_Fri_Jan_22_12:33:25_2021/videos/video1.mp4\" type=\"video/mp4\">\n",
    "</video>\n",
    "<div><center>Hello World</center></div>\n",
    "</td>\n",
    "<td>\n",
    "<video width=\"320\" height=\"320\" controls autoplay loop>\n",
    "  <source src=\"experiments/COLLECTING_EPISODES_Fri_Jan_22_12:33:25_2021/videos/video1.mp4\" type=\"video/mp4\">\n",
    "</video>\n",
    "<div><center>Hello World</center></div>\n",
    "</td>\n",
    "</tr>\n",
    "</table>\n",
    "\"\"\")"
   ]
  },
  {
   "cell_type": "code",
   "execution_count": null,
   "id": "tight-hawaiian",
   "metadata": {},
   "outputs": [],
   "source": []
  }
 ],
 "metadata": {
  "kernelspec": {
   "display_name": "Python 3",
   "language": "python",
   "name": "python3"
  },
  "language_info": {
   "codemirror_mode": {
    "name": "ipython",
    "version": 3
   },
   "file_extension": ".py",
   "mimetype": "text/x-python",
   "name": "python",
   "nbconvert_exporter": "python",
   "pygments_lexer": "ipython3",
   "version": "3.8.5"
  }
 },
 "nbformat": 4,
 "nbformat_minor": 5
}
