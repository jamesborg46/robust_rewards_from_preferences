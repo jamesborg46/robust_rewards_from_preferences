{
 "cells": [
  {
   "cell_type": "code",
   "execution_count": 1,
   "id": "southern-rates",
   "metadata": {},
   "outputs": [],
   "source": [
    "from IPython.display import HTML\n",
    "import os\n",
    "import os.path as osp\n",
    "from collections import defaultdict"
   ]
  },
  {
   "cell_type": "code",
   "execution_count": 2,
   "id": "normal-shuttle",
   "metadata": {},
   "outputs": [],
   "source": [
    "EXP = 'DIVERSITY_RUN_0_Thu_Feb__4_07:46:02_2021'\n",
    "EPOCH = 400\n",
    "DIR = osp.join('./experiment', EXP, 'videos')\n",
    "\n",
    "filenames = [file for file in os.listdir(DIR) if file.endswith('.mp4')]"
   ]
  },
  {
   "cell_type": "code",
   "execution_count": 3,
   "id": "naval-renewal",
   "metadata": {},
   "outputs": [],
   "source": [
    "def vid_info(fname):\n",
    "    split = fname.strip('.mp4').split('_')\n",
    "    info = dict()\n",
    "    for i in range(0, len(split), 2):\n",
    "        key = split[i]\n",
    "        value = split[i+1]\n",
    "        info[key] = value\n",
    "    info['fname'] = fname\n",
    "    return info\n",
    "\n",
    "def get_video_html(fname, title):\n",
    "    return f'<td><video width=\"320\" height=\"320\" controls autoplay loop><source src=\"{fname}\" type=\"video/mp4\"></video><div><center>{title}</center></div></td>'\n"
   ]
  },
  {
   "cell_type": "code",
   "execution_count": 5,
   "id": "extensive-attention",
   "metadata": {},
   "outputs": [],
   "source": [
    "vids = defaultdict(lambda: defaultdict(list))\n",
    "\n",
    "num_skills = 0\n",
    "\n",
    "for f in filenames:\n",
    "    info = vid_info(f)\n",
    "    vids[int(info['epoch'])][int(info['skill'])].append(info['fname'])\n",
    "    \n",
    "    if (int(info['skill']) + 1) > num_skills:\n",
    "        num_skills = int(info['skill']) + 1\n",
    "        \n",
    "EPOCH = 400\n",
    "epoch_vids = vids[EPOCH]\n",
    "eps_per_skill = max([len(eps) for eps in epoch_vids.values()])\n",
    "COLUMNS = eps_per_skill"
   ]
  },
  {
   "cell_type": "code",
   "execution_count": 6,
   "id": "threaded-resort",
   "metadata": {},
   "outputs": [],
   "source": [
    "html = \"<table><tr>\"\n",
    "\n",
    "elements = 0\n",
    "\n",
    "for skill in sorted(epoch_vids.keys()):\n",
    "    for fname in epoch_vids[skill]:\n",
    "        html += get_video_html(osp.join(DIR, fname), skill)\n",
    "    html += \"</tr><tr>\"\n",
    "    \n",
    "html += \"</tr></table>\""
   ]
  },
  {
   "cell_type": "code",
   "execution_count": 7,
   "id": "designed-rental",
   "metadata": {},
   "outputs": [
    {
     "data": {
      "text/html": [
       "<table><tr><td><video width=\"320\" height=\"320\" controls autoplay loop><source src=\"./experiment/DIVERSITY_RUN_0_Thu_Feb__4_07:46:02_2021/videos/epoch_0400_worker_08_skill_00_id_01.mp4\" type=\"video/mp4\"></video><div><center>0</center></div></td><td><video width=\"320\" height=\"320\" controls autoplay loop><source src=\"./experiment/DIVERSITY_RUN_0_Thu_Feb__4_07:46:02_2021/videos/epoch_0400_worker_09_skill_00_id_01.mp4\" type=\"video/mp4\"></video><div><center>0</center></div></td><td><video width=\"320\" height=\"320\" controls autoplay loop><source src=\"./experiment/DIVERSITY_RUN_0_Thu_Feb__4_07:46:02_2021/videos/epoch_0400_worker_07_skill_00_id_01.mp4\" type=\"video/mp4\"></video><div><center>0</center></div></td></tr><tr><td><video width=\"320\" height=\"320\" controls autoplay loop><source src=\"./experiment/DIVERSITY_RUN_0_Thu_Feb__4_07:46:02_2021/videos/epoch_0400_worker_09_skill_01_id_01.mp4\" type=\"video/mp4\"></video><div><center>1</center></div></td><td><video width=\"320\" height=\"320\" controls autoplay loop><source src=\"./experiment/DIVERSITY_RUN_0_Thu_Feb__4_07:46:02_2021/videos/epoch_0400_worker_08_skill_01_id_01.mp4\" type=\"video/mp4\"></video><div><center>1</center></div></td><td><video width=\"320\" height=\"320\" controls autoplay loop><source src=\"./experiment/DIVERSITY_RUN_0_Thu_Feb__4_07:46:02_2021/videos/epoch_0400_worker_00_skill_01_id_01.mp4\" type=\"video/mp4\"></video><div><center>1</center></div></td></tr><tr><td><video width=\"320\" height=\"320\" controls autoplay loop><source src=\"./experiment/DIVERSITY_RUN_0_Thu_Feb__4_07:46:02_2021/videos/epoch_0400_worker_00_skill_02_id_01.mp4\" type=\"video/mp4\"></video><div><center>2</center></div></td><td><video width=\"320\" height=\"320\" controls autoplay loop><source src=\"./experiment/DIVERSITY_RUN_0_Thu_Feb__4_07:46:02_2021/videos/epoch_0400_worker_08_skill_02_id_01.mp4\" type=\"video/mp4\"></video><div><center>2</center></div></td><td><video width=\"320\" height=\"320\" controls autoplay loop><source src=\"./experiment/DIVERSITY_RUN_0_Thu_Feb__4_07:46:02_2021/videos/epoch_0400_worker_09_skill_02_id_01.mp4\" type=\"video/mp4\"></video><div><center>2</center></div></td></tr><tr><td><video width=\"320\" height=\"320\" controls autoplay loop><source src=\"./experiment/DIVERSITY_RUN_0_Thu_Feb__4_07:46:02_2021/videos/epoch_0400_worker_00_skill_03_id_01.mp4\" type=\"video/mp4\"></video><div><center>3</center></div></td><td><video width=\"320\" height=\"320\" controls autoplay loop><source src=\"./experiment/DIVERSITY_RUN_0_Thu_Feb__4_07:46:02_2021/videos/epoch_0400_worker_01_skill_03_id_01.mp4\" type=\"video/mp4\"></video><div><center>3</center></div></td><td><video width=\"320\" height=\"320\" controls autoplay loop><source src=\"./experiment/DIVERSITY_RUN_0_Thu_Feb__4_07:46:02_2021/videos/epoch_0400_worker_09_skill_03_id_01.mp4\" type=\"video/mp4\"></video><div><center>3</center></div></td></tr><tr><td><video width=\"320\" height=\"320\" controls autoplay loop><source src=\"./experiment/DIVERSITY_RUN_0_Thu_Feb__4_07:46:02_2021/videos/epoch_0400_worker_09_skill_04_id_01.mp4\" type=\"video/mp4\"></video><div><center>4</center></div></td><td><video width=\"320\" height=\"320\" controls autoplay loop><source src=\"./experiment/DIVERSITY_RUN_0_Thu_Feb__4_07:46:02_2021/videos/epoch_0400_worker_01_skill_04_id_01.mp4\" type=\"video/mp4\"></video><div><center>4</center></div></td><td><video width=\"320\" height=\"320\" controls autoplay loop><source src=\"./experiment/DIVERSITY_RUN_0_Thu_Feb__4_07:46:02_2021/videos/epoch_0400_worker_00_skill_04_id_01.mp4\" type=\"video/mp4\"></video><div><center>4</center></div></td></tr><tr><td><video width=\"320\" height=\"320\" controls autoplay loop><source src=\"./experiment/DIVERSITY_RUN_0_Thu_Feb__4_07:46:02_2021/videos/epoch_0400_worker_02_skill_05_id_01.mp4\" type=\"video/mp4\"></video><div><center>5</center></div></td><td><video width=\"320\" height=\"320\" controls autoplay loop><source src=\"./experiment/DIVERSITY_RUN_0_Thu_Feb__4_07:46:02_2021/videos/epoch_0400_worker_00_skill_05_id_01.mp4\" type=\"video/mp4\"></video><div><center>5</center></div></td><td><video width=\"320\" height=\"320\" controls autoplay loop><source src=\"./experiment/DIVERSITY_RUN_0_Thu_Feb__4_07:46:02_2021/videos/epoch_0400_worker_01_skill_05_id_01.mp4\" type=\"video/mp4\"></video><div><center>5</center></div></td></tr><tr><td><video width=\"320\" height=\"320\" controls autoplay loop><source src=\"./experiment/DIVERSITY_RUN_0_Thu_Feb__4_07:46:02_2021/videos/epoch_0400_worker_01_skill_06_id_01.mp4\" type=\"video/mp4\"></video><div><center>6</center></div></td><td><video width=\"320\" height=\"320\" controls autoplay loop><source src=\"./experiment/DIVERSITY_RUN_0_Thu_Feb__4_07:46:02_2021/videos/epoch_0400_worker_02_skill_06_id_01.mp4\" type=\"video/mp4\"></video><div><center>6</center></div></td><td><video width=\"320\" height=\"320\" controls autoplay loop><source src=\"./experiment/DIVERSITY_RUN_0_Thu_Feb__4_07:46:02_2021/videos/epoch_0400_worker_00_skill_06_id_01.mp4\" type=\"video/mp4\"></video><div><center>6</center></div></td></tr><tr><td><video width=\"320\" height=\"320\" controls autoplay loop><source src=\"./experiment/DIVERSITY_RUN_0_Thu_Feb__4_07:46:02_2021/videos/epoch_0400_worker_02_skill_07_id_01.mp4\" type=\"video/mp4\"></video><div><center>7</center></div></td><td><video width=\"320\" height=\"320\" controls autoplay loop><source src=\"./experiment/DIVERSITY_RUN_0_Thu_Feb__4_07:46:02_2021/videos/epoch_0400_worker_03_skill_07_id_01.mp4\" type=\"video/mp4\"></video><div><center>7</center></div></td><td><video width=\"320\" height=\"320\" controls autoplay loop><source src=\"./experiment/DIVERSITY_RUN_0_Thu_Feb__4_07:46:02_2021/videos/epoch_0400_worker_01_skill_07_id_01.mp4\" type=\"video/mp4\"></video><div><center>7</center></div></td></tr><tr><td><video width=\"320\" height=\"320\" controls autoplay loop><source src=\"./experiment/DIVERSITY_RUN_0_Thu_Feb__4_07:46:02_2021/videos/epoch_0400_worker_02_skill_08_id_01.mp4\" type=\"video/mp4\"></video><div><center>8</center></div></td><td><video width=\"320\" height=\"320\" controls autoplay loop><source src=\"./experiment/DIVERSITY_RUN_0_Thu_Feb__4_07:46:02_2021/videos/epoch_0400_worker_01_skill_08_id_01.mp4\" type=\"video/mp4\"></video><div><center>8</center></div></td><td><video width=\"320\" height=\"320\" controls autoplay loop><source src=\"./experiment/DIVERSITY_RUN_0_Thu_Feb__4_07:46:02_2021/videos/epoch_0400_worker_03_skill_08_id_01.mp4\" type=\"video/mp4\"></video><div><center>8</center></div></td></tr><tr><td><video width=\"320\" height=\"320\" controls autoplay loop><source src=\"./experiment/DIVERSITY_RUN_0_Thu_Feb__4_07:46:02_2021/videos/epoch_0400_worker_03_skill_09_id_01.mp4\" type=\"video/mp4\"></video><div><center>9</center></div></td><td><video width=\"320\" height=\"320\" controls autoplay loop><source src=\"./experiment/DIVERSITY_RUN_0_Thu_Feb__4_07:46:02_2021/videos/epoch_0400_worker_04_skill_09_id_01.mp4\" type=\"video/mp4\"></video><div><center>9</center></div></td><td><video width=\"320\" height=\"320\" controls autoplay loop><source src=\"./experiment/DIVERSITY_RUN_0_Thu_Feb__4_07:46:02_2021/videos/epoch_0400_worker_02_skill_09_id_01.mp4\" type=\"video/mp4\"></video><div><center>9</center></div></td></tr><tr><td><video width=\"320\" height=\"320\" controls autoplay loop><source src=\"./experiment/DIVERSITY_RUN_0_Thu_Feb__4_07:46:02_2021/videos/epoch_0400_worker_04_skill_10_id_01.mp4\" type=\"video/mp4\"></video><div><center>10</center></div></td><td><video width=\"320\" height=\"320\" controls autoplay loop><source src=\"./experiment/DIVERSITY_RUN_0_Thu_Feb__4_07:46:02_2021/videos/epoch_0400_worker_03_skill_10_id_01.mp4\" type=\"video/mp4\"></video><div><center>10</center></div></td><td><video width=\"320\" height=\"320\" controls autoplay loop><source src=\"./experiment/DIVERSITY_RUN_0_Thu_Feb__4_07:46:02_2021/videos/epoch_0400_worker_02_skill_10_id_01.mp4\" type=\"video/mp4\"></video><div><center>10</center></div></td></tr><tr><td><video width=\"320\" height=\"320\" controls autoplay loop><source src=\"./experiment/DIVERSITY_RUN_0_Thu_Feb__4_07:46:02_2021/videos/epoch_0400_worker_04_skill_11_id_01.mp4\" type=\"video/mp4\"></video><div><center>11</center></div></td><td><video width=\"320\" height=\"320\" controls autoplay loop><source src=\"./experiment/DIVERSITY_RUN_0_Thu_Feb__4_07:46:02_2021/videos/epoch_0400_worker_03_skill_11_id_01.mp4\" type=\"video/mp4\"></video><div><center>11</center></div></td><td><video width=\"320\" height=\"320\" controls autoplay loop><source src=\"./experiment/DIVERSITY_RUN_0_Thu_Feb__4_07:46:02_2021/videos/epoch_0400_worker_05_skill_11_id_01.mp4\" type=\"video/mp4\"></video><div><center>11</center></div></td></tr><tr><td><video width=\"320\" height=\"320\" controls autoplay loop><source src=\"./experiment/DIVERSITY_RUN_0_Thu_Feb__4_07:46:02_2021/videos/epoch_0400_worker_03_skill_12_id_01.mp4\" type=\"video/mp4\"></video><div><center>12</center></div></td><td><video width=\"320\" height=\"320\" controls autoplay loop><source src=\"./experiment/DIVERSITY_RUN_0_Thu_Feb__4_07:46:02_2021/videos/epoch_0400_worker_05_skill_12_id_01.mp4\" type=\"video/mp4\"></video><div><center>12</center></div></td><td><video width=\"320\" height=\"320\" controls autoplay loop><source src=\"./experiment/DIVERSITY_RUN_0_Thu_Feb__4_07:46:02_2021/videos/epoch_0400_worker_04_skill_12_id_01.mp4\" type=\"video/mp4\"></video><div><center>12</center></div></td></tr><tr><td><video width=\"320\" height=\"320\" controls autoplay loop><source src=\"./experiment/DIVERSITY_RUN_0_Thu_Feb__4_07:46:02_2021/videos/epoch_0400_worker_04_skill_13_id_01.mp4\" type=\"video/mp4\"></video><div><center>13</center></div></td><td><video width=\"320\" height=\"320\" controls autoplay loop><source src=\"./experiment/DIVERSITY_RUN_0_Thu_Feb__4_07:46:02_2021/videos/epoch_0400_worker_06_skill_13_id_01.mp4\" type=\"video/mp4\"></video><div><center>13</center></div></td><td><video width=\"320\" height=\"320\" controls autoplay loop><source src=\"./experiment/DIVERSITY_RUN_0_Thu_Feb__4_07:46:02_2021/videos/epoch_0400_worker_05_skill_13_id_01.mp4\" type=\"video/mp4\"></video><div><center>13</center></div></td></tr><tr><td><video width=\"320\" height=\"320\" controls autoplay loop><source src=\"./experiment/DIVERSITY_RUN_0_Thu_Feb__4_07:46:02_2021/videos/epoch_0400_worker_06_skill_14_id_01.mp4\" type=\"video/mp4\"></video><div><center>14</center></div></td><td><video width=\"320\" height=\"320\" controls autoplay loop><source src=\"./experiment/DIVERSITY_RUN_0_Thu_Feb__4_07:46:02_2021/videos/epoch_0400_worker_05_skill_14_id_01.mp4\" type=\"video/mp4\"></video><div><center>14</center></div></td><td><video width=\"320\" height=\"320\" controls autoplay loop><source src=\"./experiment/DIVERSITY_RUN_0_Thu_Feb__4_07:46:02_2021/videos/epoch_0400_worker_04_skill_14_id_01.mp4\" type=\"video/mp4\"></video><div><center>14</center></div></td></tr><tr><td><video width=\"320\" height=\"320\" controls autoplay loop><source src=\"./experiment/DIVERSITY_RUN_0_Thu_Feb__4_07:46:02_2021/videos/epoch_0400_worker_05_skill_15_id_01.mp4\" type=\"video/mp4\"></video><div><center>15</center></div></td><td><video width=\"320\" height=\"320\" controls autoplay loop><source src=\"./experiment/DIVERSITY_RUN_0_Thu_Feb__4_07:46:02_2021/videos/epoch_0400_worker_06_skill_15_id_01.mp4\" type=\"video/mp4\"></video><div><center>15</center></div></td><td><video width=\"320\" height=\"320\" controls autoplay loop><source src=\"./experiment/DIVERSITY_RUN_0_Thu_Feb__4_07:46:02_2021/videos/epoch_0400_worker_07_skill_15_id_01.mp4\" type=\"video/mp4\"></video><div><center>15</center></div></td></tr><tr><td><video width=\"320\" height=\"320\" controls autoplay loop><source src=\"./experiment/DIVERSITY_RUN_0_Thu_Feb__4_07:46:02_2021/videos/epoch_0400_worker_07_skill_16_id_01.mp4\" type=\"video/mp4\"></video><div><center>16</center></div></td><td><video width=\"320\" height=\"320\" controls autoplay loop><source src=\"./experiment/DIVERSITY_RUN_0_Thu_Feb__4_07:46:02_2021/videos/epoch_0400_worker_05_skill_16_id_01.mp4\" type=\"video/mp4\"></video><div><center>16</center></div></td><td><video width=\"320\" height=\"320\" controls autoplay loop><source src=\"./experiment/DIVERSITY_RUN_0_Thu_Feb__4_07:46:02_2021/videos/epoch_0400_worker_06_skill_16_id_01.mp4\" type=\"video/mp4\"></video><div><center>16</center></div></td></tr><tr><td><video width=\"320\" height=\"320\" controls autoplay loop><source src=\"./experiment/DIVERSITY_RUN_0_Thu_Feb__4_07:46:02_2021/videos/epoch_0400_worker_06_skill_17_id_01.mp4\" type=\"video/mp4\"></video><div><center>17</center></div></td><td><video width=\"320\" height=\"320\" controls autoplay loop><source src=\"./experiment/DIVERSITY_RUN_0_Thu_Feb__4_07:46:02_2021/videos/epoch_0400_worker_08_skill_17_id_01.mp4\" type=\"video/mp4\"></video><div><center>17</center></div></td><td><video width=\"320\" height=\"320\" controls autoplay loop><source src=\"./experiment/DIVERSITY_RUN_0_Thu_Feb__4_07:46:02_2021/videos/epoch_0400_worker_07_skill_17_id_01.mp4\" type=\"video/mp4\"></video><div><center>17</center></div></td></tr><tr><td><video width=\"320\" height=\"320\" controls autoplay loop><source src=\"./experiment/DIVERSITY_RUN_0_Thu_Feb__4_07:46:02_2021/videos/epoch_0400_worker_06_skill_18_id_01.mp4\" type=\"video/mp4\"></video><div><center>18</center></div></td><td><video width=\"320\" height=\"320\" controls autoplay loop><source src=\"./experiment/DIVERSITY_RUN_0_Thu_Feb__4_07:46:02_2021/videos/epoch_0400_worker_07_skill_18_id_01.mp4\" type=\"video/mp4\"></video><div><center>18</center></div></td><td><video width=\"320\" height=\"320\" controls autoplay loop><source src=\"./experiment/DIVERSITY_RUN_0_Thu_Feb__4_07:46:02_2021/videos/epoch_0400_worker_08_skill_18_id_01.mp4\" type=\"video/mp4\"></video><div><center>18</center></div></td></tr><tr><td><video width=\"320\" height=\"320\" controls autoplay loop><source src=\"./experiment/DIVERSITY_RUN_0_Thu_Feb__4_07:46:02_2021/videos/epoch_0400_worker_08_skill_19_id_01.mp4\" type=\"video/mp4\"></video><div><center>19</center></div></td><td><video width=\"320\" height=\"320\" controls autoplay loop><source src=\"./experiment/DIVERSITY_RUN_0_Thu_Feb__4_07:46:02_2021/videos/epoch_0400_worker_07_skill_19_id_01.mp4\" type=\"video/mp4\"></video><div><center>19</center></div></td><td><video width=\"320\" height=\"320\" controls autoplay loop><source src=\"./experiment/DIVERSITY_RUN_0_Thu_Feb__4_07:46:02_2021/videos/epoch_0400_worker_09_skill_19_id_01.mp4\" type=\"video/mp4\"></video><div><center>19</center></div></td></tr><tr></tr></table>"
      ],
      "text/plain": [
       "<IPython.core.display.HTML object>"
      ]
     },
     "execution_count": 7,
     "metadata": {},
     "output_type": "execute_result"
    }
   ],
   "source": [
    "from IPython.display import HTML\n",
    "HTML(html)"
   ]
  },
  {
   "cell_type": "code",
   "execution_count": null,
   "id": "exact-breed",
   "metadata": {},
   "outputs": [],
   "source": []
  }
 ],
 "metadata": {
  "kernelspec": {
   "display_name": "Python 3",
   "language": "python",
   "name": "python3"
  },
  "language_info": {
   "codemirror_mode": {
    "name": "ipython",
    "version": 3
   },
   "file_extension": ".py",
   "mimetype": "text/x-python",
   "name": "python",
   "nbconvert_exporter": "python",
   "pygments_lexer": "ipython3",
   "version": "3.8.5"
  }
 },
 "nbformat": 4,
 "nbformat_minor": 5
}
