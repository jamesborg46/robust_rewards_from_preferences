{
 "cells": [
  {
   "cell_type": "code",
   "execution_count": 32,
   "id": "bronze-nursery",
   "metadata": {},
   "outputs": [],
   "source": [
    "from IPython.display import HTML\n",
    "import os\n",
    "import os.path as osp\n",
    "from collections import defaultdict"
   ]
  },
  {
   "cell_type": "code",
   "execution_count": 22,
   "id": "governmental-nursery",
   "metadata": {},
   "outputs": [],
   "source": [
    "EXP = 'TEST_Thu_Feb__4_07:13:06_2021'\n",
    "EPOCH = 400\n",
    "DIR = osp.join('./experiment', EXP, 'videos')\n",
    "\n",
    "filenames = [file for file in os.listdir(DIR) if file.endswith('.mp4')]"
   ]
  },
  {
   "cell_type": "code",
   "execution_count": 23,
   "id": "entertaining-alignment",
   "metadata": {},
   "outputs": [],
   "source": [
    "def vid_info(fname):\n",
    "    split = fname.strip('.mp4').split('_')\n",
    "    info = dict()\n",
    "    for i in range(0, len(split), 2):\n",
    "        key = split[i]\n",
    "        value = split[i+1]\n",
    "        info[key] = value\n",
    "    info['fname'] = fname\n",
    "    return info\n",
    "\n",
    "def get_video_html(fname, skill):\n",
    "    return f'<td><video width=\"320\" height=\"320\" controls autoplay loop><source src=\"{fname}\" type=\"video/mp4\"></video><div><center>{skill}</center></div></td>'"
   ]
  },
  {
   "cell_type": "code",
   "execution_count": 33,
   "id": "increased-consolidation",
   "metadata": {},
   "outputs": [],
   "source": [
    "vids = defaultdict(lambda: defaultdict(list))\n",
    "\n",
    "num_skills = 0\n",
    "\n",
    "for f in filenames:\n",
    "    info = vid_info(f)\n",
    "    vids[int(info['epoch'])][int(info['skill'])].append(info['fname'])\n",
    "    \n",
    "    if (int(info['skill']) + 1) > num_skills:\n",
    "        num_skills = int(info['skill']) + 1"
   ]
  },
  {
   "cell_type": "code",
   "execution_count": 34,
   "id": "weird-supplement",
   "metadata": {},
   "outputs": [
    {
     "data": {
      "text/plain": [
       "defaultdict(<function __main__.<lambda>()>,\n",
       "            {1: defaultdict(list,\n",
       "                         {0: ['epoch_0001_worker_01_skill_00_id_01.mp4',\n",
       "                           'epoch_0001_worker_01_skill_00_id_02.mp4',\n",
       "                           'epoch_0001_worker_00_skill_00_id_01.mp4'],\n",
       "                          1: ['epoch_0001_worker_01_skill_01_id_01.mp4',\n",
       "                           'epoch_0001_worker_00_skill_01_id_02.mp4',\n",
       "                           'epoch_0001_worker_00_skill_01_id_01.mp4']}),\n",
       "             2: defaultdict(list,\n",
       "                         {1: ['epoch_0002_worker_00_skill_01_id_01.mp4'],\n",
       "                          0: ['epoch_0002_worker_01_skill_00_id_01.mp4']})})"
      ]
     },
     "execution_count": 34,
     "metadata": {},
     "output_type": "execute_result"
    }
   ],
   "source": [
    "vids"
   ]
  },
  {
   "cell_type": "code",
   "execution_count": 12,
   "id": "straight-ceiling",
   "metadata": {},
   "outputs": [],
   "source": [
    "html = \"<table><tr>\"\n",
    "\n",
    "elements = 0\n",
    "\n",
    "for skill in sorted(os.listdir(DIR)):\n",
    "    elements += 1\n",
    "    html += get_video_html(osp.join(DIR, skill), skill)\n",
    "    if elements % COLUMNS == 0:\n",
    "        html += \"</tr><tr>\"\n",
    "    \n",
    "html += \"</tr></table>\""
   ]
  },
  {
   "cell_type": "code",
   "execution_count": 13,
   "id": "driven-sponsorship",
   "metadata": {},
   "outputs": [
    {
     "data": {
      "text/html": [
       "<table><tr><td><video width=\"320\" height=\"320\" controls autoplay loop><source src=\"./experiment/DIVERSITY_ALPHA_05_Mon_Feb__1_09:36:50_2021/videos/epoch_400/skill_000_ep_00.mp4\" type=\"video/mp4\"></video><div><center>skill_000_ep_00.mp4</center></div></td><td><video width=\"320\" height=\"320\" controls autoplay loop><source src=\"./experiment/DIVERSITY_ALPHA_05_Mon_Feb__1_09:36:50_2021/videos/epoch_400/skill_000_ep_01.mp4\" type=\"video/mp4\"></video><div><center>skill_000_ep_01.mp4</center></div></td><td><video width=\"320\" height=\"320\" controls autoplay loop><source src=\"./experiment/DIVERSITY_ALPHA_05_Mon_Feb__1_09:36:50_2021/videos/epoch_400/skill_000_ep_02.mp4\" type=\"video/mp4\"></video><div><center>skill_000_ep_02.mp4</center></div></td></tr><tr><td><video width=\"320\" height=\"320\" controls autoplay loop><source src=\"./experiment/DIVERSITY_ALPHA_05_Mon_Feb__1_09:36:50_2021/videos/epoch_400/skill_001_ep_00.mp4\" type=\"video/mp4\"></video><div><center>skill_001_ep_00.mp4</center></div></td><td><video width=\"320\" height=\"320\" controls autoplay loop><source src=\"./experiment/DIVERSITY_ALPHA_05_Mon_Feb__1_09:36:50_2021/videos/epoch_400/skill_001_ep_01.mp4\" type=\"video/mp4\"></video><div><center>skill_001_ep_01.mp4</center></div></td><td><video width=\"320\" height=\"320\" controls autoplay loop><source src=\"./experiment/DIVERSITY_ALPHA_05_Mon_Feb__1_09:36:50_2021/videos/epoch_400/skill_001_ep_02.mp4\" type=\"video/mp4\"></video><div><center>skill_001_ep_02.mp4</center></div></td></tr><tr><td><video width=\"320\" height=\"320\" controls autoplay loop><source src=\"./experiment/DIVERSITY_ALPHA_05_Mon_Feb__1_09:36:50_2021/videos/epoch_400/skill_002_ep_00.mp4\" type=\"video/mp4\"></video><div><center>skill_002_ep_00.mp4</center></div></td><td><video width=\"320\" height=\"320\" controls autoplay loop><source src=\"./experiment/DIVERSITY_ALPHA_05_Mon_Feb__1_09:36:50_2021/videos/epoch_400/skill_002_ep_01.mp4\" type=\"video/mp4\"></video><div><center>skill_002_ep_01.mp4</center></div></td><td><video width=\"320\" height=\"320\" controls autoplay loop><source src=\"./experiment/DIVERSITY_ALPHA_05_Mon_Feb__1_09:36:50_2021/videos/epoch_400/skill_002_ep_02.mp4\" type=\"video/mp4\"></video><div><center>skill_002_ep_02.mp4</center></div></td></tr><tr><td><video width=\"320\" height=\"320\" controls autoplay loop><source src=\"./experiment/DIVERSITY_ALPHA_05_Mon_Feb__1_09:36:50_2021/videos/epoch_400/skill_003_ep_00.mp4\" type=\"video/mp4\"></video><div><center>skill_003_ep_00.mp4</center></div></td><td><video width=\"320\" height=\"320\" controls autoplay loop><source src=\"./experiment/DIVERSITY_ALPHA_05_Mon_Feb__1_09:36:50_2021/videos/epoch_400/skill_003_ep_01.mp4\" type=\"video/mp4\"></video><div><center>skill_003_ep_01.mp4</center></div></td><td><video width=\"320\" height=\"320\" controls autoplay loop><source src=\"./experiment/DIVERSITY_ALPHA_05_Mon_Feb__1_09:36:50_2021/videos/epoch_400/skill_003_ep_02.mp4\" type=\"video/mp4\"></video><div><center>skill_003_ep_02.mp4</center></div></td></tr><tr><td><video width=\"320\" height=\"320\" controls autoplay loop><source src=\"./experiment/DIVERSITY_ALPHA_05_Mon_Feb__1_09:36:50_2021/videos/epoch_400/skill_004_ep_00.mp4\" type=\"video/mp4\"></video><div><center>skill_004_ep_00.mp4</center></div></td><td><video width=\"320\" height=\"320\" controls autoplay loop><source src=\"./experiment/DIVERSITY_ALPHA_05_Mon_Feb__1_09:36:50_2021/videos/epoch_400/skill_004_ep_01.mp4\" type=\"video/mp4\"></video><div><center>skill_004_ep_01.mp4</center></div></td><td><video width=\"320\" height=\"320\" controls autoplay loop><source src=\"./experiment/DIVERSITY_ALPHA_05_Mon_Feb__1_09:36:50_2021/videos/epoch_400/skill_004_ep_02.mp4\" type=\"video/mp4\"></video><div><center>skill_004_ep_02.mp4</center></div></td></tr><tr><td><video width=\"320\" height=\"320\" controls autoplay loop><source src=\"./experiment/DIVERSITY_ALPHA_05_Mon_Feb__1_09:36:50_2021/videos/epoch_400/skill_005_ep_00.mp4\" type=\"video/mp4\"></video><div><center>skill_005_ep_00.mp4</center></div></td><td><video width=\"320\" height=\"320\" controls autoplay loop><source src=\"./experiment/DIVERSITY_ALPHA_05_Mon_Feb__1_09:36:50_2021/videos/epoch_400/skill_005_ep_01.mp4\" type=\"video/mp4\"></video><div><center>skill_005_ep_01.mp4</center></div></td><td><video width=\"320\" height=\"320\" controls autoplay loop><source src=\"./experiment/DIVERSITY_ALPHA_05_Mon_Feb__1_09:36:50_2021/videos/epoch_400/skill_005_ep_02.mp4\" type=\"video/mp4\"></video><div><center>skill_005_ep_02.mp4</center></div></td></tr><tr><td><video width=\"320\" height=\"320\" controls autoplay loop><source src=\"./experiment/DIVERSITY_ALPHA_05_Mon_Feb__1_09:36:50_2021/videos/epoch_400/skill_006_ep_00.mp4\" type=\"video/mp4\"></video><div><center>skill_006_ep_00.mp4</center></div></td><td><video width=\"320\" height=\"320\" controls autoplay loop><source src=\"./experiment/DIVERSITY_ALPHA_05_Mon_Feb__1_09:36:50_2021/videos/epoch_400/skill_006_ep_01.mp4\" type=\"video/mp4\"></video><div><center>skill_006_ep_01.mp4</center></div></td><td><video width=\"320\" height=\"320\" controls autoplay loop><source src=\"./experiment/DIVERSITY_ALPHA_05_Mon_Feb__1_09:36:50_2021/videos/epoch_400/skill_006_ep_02.mp4\" type=\"video/mp4\"></video><div><center>skill_006_ep_02.mp4</center></div></td></tr><tr><td><video width=\"320\" height=\"320\" controls autoplay loop><source src=\"./experiment/DIVERSITY_ALPHA_05_Mon_Feb__1_09:36:50_2021/videos/epoch_400/skill_007_ep_00.mp4\" type=\"video/mp4\"></video><div><center>skill_007_ep_00.mp4</center></div></td><td><video width=\"320\" height=\"320\" controls autoplay loop><source src=\"./experiment/DIVERSITY_ALPHA_05_Mon_Feb__1_09:36:50_2021/videos/epoch_400/skill_007_ep_01.mp4\" type=\"video/mp4\"></video><div><center>skill_007_ep_01.mp4</center></div></td><td><video width=\"320\" height=\"320\" controls autoplay loop><source src=\"./experiment/DIVERSITY_ALPHA_05_Mon_Feb__1_09:36:50_2021/videos/epoch_400/skill_007_ep_02.mp4\" type=\"video/mp4\"></video><div><center>skill_007_ep_02.mp4</center></div></td></tr><tr><td><video width=\"320\" height=\"320\" controls autoplay loop><source src=\"./experiment/DIVERSITY_ALPHA_05_Mon_Feb__1_09:36:50_2021/videos/epoch_400/skill_008_ep_00.mp4\" type=\"video/mp4\"></video><div><center>skill_008_ep_00.mp4</center></div></td><td><video width=\"320\" height=\"320\" controls autoplay loop><source src=\"./experiment/DIVERSITY_ALPHA_05_Mon_Feb__1_09:36:50_2021/videos/epoch_400/skill_008_ep_01.mp4\" type=\"video/mp4\"></video><div><center>skill_008_ep_01.mp4</center></div></td><td><video width=\"320\" height=\"320\" controls autoplay loop><source src=\"./experiment/DIVERSITY_ALPHA_05_Mon_Feb__1_09:36:50_2021/videos/epoch_400/skill_008_ep_02.mp4\" type=\"video/mp4\"></video><div><center>skill_008_ep_02.mp4</center></div></td></tr><tr><td><video width=\"320\" height=\"320\" controls autoplay loop><source src=\"./experiment/DIVERSITY_ALPHA_05_Mon_Feb__1_09:36:50_2021/videos/epoch_400/skill_009_ep_00.mp4\" type=\"video/mp4\"></video><div><center>skill_009_ep_00.mp4</center></div></td><td><video width=\"320\" height=\"320\" controls autoplay loop><source src=\"./experiment/DIVERSITY_ALPHA_05_Mon_Feb__1_09:36:50_2021/videos/epoch_400/skill_009_ep_01.mp4\" type=\"video/mp4\"></video><div><center>skill_009_ep_01.mp4</center></div></td><td><video width=\"320\" height=\"320\" controls autoplay loop><source src=\"./experiment/DIVERSITY_ALPHA_05_Mon_Feb__1_09:36:50_2021/videos/epoch_400/skill_009_ep_02.mp4\" type=\"video/mp4\"></video><div><center>skill_009_ep_02.mp4</center></div></td></tr><tr><td><video width=\"320\" height=\"320\" controls autoplay loop><source src=\"./experiment/DIVERSITY_ALPHA_05_Mon_Feb__1_09:36:50_2021/videos/epoch_400/skill_010_ep_00.mp4\" type=\"video/mp4\"></video><div><center>skill_010_ep_00.mp4</center></div></td><td><video width=\"320\" height=\"320\" controls autoplay loop><source src=\"./experiment/DIVERSITY_ALPHA_05_Mon_Feb__1_09:36:50_2021/videos/epoch_400/skill_010_ep_01.mp4\" type=\"video/mp4\"></video><div><center>skill_010_ep_01.mp4</center></div></td><td><video width=\"320\" height=\"320\" controls autoplay loop><source src=\"./experiment/DIVERSITY_ALPHA_05_Mon_Feb__1_09:36:50_2021/videos/epoch_400/skill_010_ep_02.mp4\" type=\"video/mp4\"></video><div><center>skill_010_ep_02.mp4</center></div></td></tr><tr><td><video width=\"320\" height=\"320\" controls autoplay loop><source src=\"./experiment/DIVERSITY_ALPHA_05_Mon_Feb__1_09:36:50_2021/videos/epoch_400/skill_011_ep_00.mp4\" type=\"video/mp4\"></video><div><center>skill_011_ep_00.mp4</center></div></td><td><video width=\"320\" height=\"320\" controls autoplay loop><source src=\"./experiment/DIVERSITY_ALPHA_05_Mon_Feb__1_09:36:50_2021/videos/epoch_400/skill_011_ep_01.mp4\" type=\"video/mp4\"></video><div><center>skill_011_ep_01.mp4</center></div></td><td><video width=\"320\" height=\"320\" controls autoplay loop><source src=\"./experiment/DIVERSITY_ALPHA_05_Mon_Feb__1_09:36:50_2021/videos/epoch_400/skill_011_ep_02.mp4\" type=\"video/mp4\"></video><div><center>skill_011_ep_02.mp4</center></div></td></tr><tr><td><video width=\"320\" height=\"320\" controls autoplay loop><source src=\"./experiment/DIVERSITY_ALPHA_05_Mon_Feb__1_09:36:50_2021/videos/epoch_400/skill_012_ep_00.mp4\" type=\"video/mp4\"></video><div><center>skill_012_ep_00.mp4</center></div></td><td><video width=\"320\" height=\"320\" controls autoplay loop><source src=\"./experiment/DIVERSITY_ALPHA_05_Mon_Feb__1_09:36:50_2021/videos/epoch_400/skill_012_ep_01.mp4\" type=\"video/mp4\"></video><div><center>skill_012_ep_01.mp4</center></div></td><td><video width=\"320\" height=\"320\" controls autoplay loop><source src=\"./experiment/DIVERSITY_ALPHA_05_Mon_Feb__1_09:36:50_2021/videos/epoch_400/skill_012_ep_02.mp4\" type=\"video/mp4\"></video><div><center>skill_012_ep_02.mp4</center></div></td></tr><tr><td><video width=\"320\" height=\"320\" controls autoplay loop><source src=\"./experiment/DIVERSITY_ALPHA_05_Mon_Feb__1_09:36:50_2021/videos/epoch_400/skill_013_ep_00.mp4\" type=\"video/mp4\"></video><div><center>skill_013_ep_00.mp4</center></div></td><td><video width=\"320\" height=\"320\" controls autoplay loop><source src=\"./experiment/DIVERSITY_ALPHA_05_Mon_Feb__1_09:36:50_2021/videos/epoch_400/skill_013_ep_01.mp4\" type=\"video/mp4\"></video><div><center>skill_013_ep_01.mp4</center></div></td><td><video width=\"320\" height=\"320\" controls autoplay loop><source src=\"./experiment/DIVERSITY_ALPHA_05_Mon_Feb__1_09:36:50_2021/videos/epoch_400/skill_013_ep_02.mp4\" type=\"video/mp4\"></video><div><center>skill_013_ep_02.mp4</center></div></td></tr><tr><td><video width=\"320\" height=\"320\" controls autoplay loop><source src=\"./experiment/DIVERSITY_ALPHA_05_Mon_Feb__1_09:36:50_2021/videos/epoch_400/skill_014_ep_00.mp4\" type=\"video/mp4\"></video><div><center>skill_014_ep_00.mp4</center></div></td><td><video width=\"320\" height=\"320\" controls autoplay loop><source src=\"./experiment/DIVERSITY_ALPHA_05_Mon_Feb__1_09:36:50_2021/videos/epoch_400/skill_014_ep_01.mp4\" type=\"video/mp4\"></video><div><center>skill_014_ep_01.mp4</center></div></td><td><video width=\"320\" height=\"320\" controls autoplay loop><source src=\"./experiment/DIVERSITY_ALPHA_05_Mon_Feb__1_09:36:50_2021/videos/epoch_400/skill_014_ep_02.mp4\" type=\"video/mp4\"></video><div><center>skill_014_ep_02.mp4</center></div></td></tr><tr><td><video width=\"320\" height=\"320\" controls autoplay loop><source src=\"./experiment/DIVERSITY_ALPHA_05_Mon_Feb__1_09:36:50_2021/videos/epoch_400/skill_015_ep_00.mp4\" type=\"video/mp4\"></video><div><center>skill_015_ep_00.mp4</center></div></td><td><video width=\"320\" height=\"320\" controls autoplay loop><source src=\"./experiment/DIVERSITY_ALPHA_05_Mon_Feb__1_09:36:50_2021/videos/epoch_400/skill_015_ep_01.mp4\" type=\"video/mp4\"></video><div><center>skill_015_ep_01.mp4</center></div></td><td><video width=\"320\" height=\"320\" controls autoplay loop><source src=\"./experiment/DIVERSITY_ALPHA_05_Mon_Feb__1_09:36:50_2021/videos/epoch_400/skill_015_ep_02.mp4\" type=\"video/mp4\"></video><div><center>skill_015_ep_02.mp4</center></div></td></tr><tr><td><video width=\"320\" height=\"320\" controls autoplay loop><source src=\"./experiment/DIVERSITY_ALPHA_05_Mon_Feb__1_09:36:50_2021/videos/epoch_400/skill_016_ep_00.mp4\" type=\"video/mp4\"></video><div><center>skill_016_ep_00.mp4</center></div></td><td><video width=\"320\" height=\"320\" controls autoplay loop><source src=\"./experiment/DIVERSITY_ALPHA_05_Mon_Feb__1_09:36:50_2021/videos/epoch_400/skill_016_ep_01.mp4\" type=\"video/mp4\"></video><div><center>skill_016_ep_01.mp4</center></div></td><td><video width=\"320\" height=\"320\" controls autoplay loop><source src=\"./experiment/DIVERSITY_ALPHA_05_Mon_Feb__1_09:36:50_2021/videos/epoch_400/skill_016_ep_02.mp4\" type=\"video/mp4\"></video><div><center>skill_016_ep_02.mp4</center></div></td></tr><tr><td><video width=\"320\" height=\"320\" controls autoplay loop><source src=\"./experiment/DIVERSITY_ALPHA_05_Mon_Feb__1_09:36:50_2021/videos/epoch_400/skill_017_ep_00.mp4\" type=\"video/mp4\"></video><div><center>skill_017_ep_00.mp4</center></div></td><td><video width=\"320\" height=\"320\" controls autoplay loop><source src=\"./experiment/DIVERSITY_ALPHA_05_Mon_Feb__1_09:36:50_2021/videos/epoch_400/skill_017_ep_01.mp4\" type=\"video/mp4\"></video><div><center>skill_017_ep_01.mp4</center></div></td><td><video width=\"320\" height=\"320\" controls autoplay loop><source src=\"./experiment/DIVERSITY_ALPHA_05_Mon_Feb__1_09:36:50_2021/videos/epoch_400/skill_017_ep_02.mp4\" type=\"video/mp4\"></video><div><center>skill_017_ep_02.mp4</center></div></td></tr><tr><td><video width=\"320\" height=\"320\" controls autoplay loop><source src=\"./experiment/DIVERSITY_ALPHA_05_Mon_Feb__1_09:36:50_2021/videos/epoch_400/skill_018_ep_00.mp4\" type=\"video/mp4\"></video><div><center>skill_018_ep_00.mp4</center></div></td><td><video width=\"320\" height=\"320\" controls autoplay loop><source src=\"./experiment/DIVERSITY_ALPHA_05_Mon_Feb__1_09:36:50_2021/videos/epoch_400/skill_018_ep_01.mp4\" type=\"video/mp4\"></video><div><center>skill_018_ep_01.mp4</center></div></td><td><video width=\"320\" height=\"320\" controls autoplay loop><source src=\"./experiment/DIVERSITY_ALPHA_05_Mon_Feb__1_09:36:50_2021/videos/epoch_400/skill_018_ep_02.mp4\" type=\"video/mp4\"></video><div><center>skill_018_ep_02.mp4</center></div></td></tr><tr><td><video width=\"320\" height=\"320\" controls autoplay loop><source src=\"./experiment/DIVERSITY_ALPHA_05_Mon_Feb__1_09:36:50_2021/videos/epoch_400/skill_019_ep_00.mp4\" type=\"video/mp4\"></video><div><center>skill_019_ep_00.mp4</center></div></td><td><video width=\"320\" height=\"320\" controls autoplay loop><source src=\"./experiment/DIVERSITY_ALPHA_05_Mon_Feb__1_09:36:50_2021/videos/epoch_400/skill_019_ep_01.mp4\" type=\"video/mp4\"></video><div><center>skill_019_ep_01.mp4</center></div></td><td><video width=\"320\" height=\"320\" controls autoplay loop><source src=\"./experiment/DIVERSITY_ALPHA_05_Mon_Feb__1_09:36:50_2021/videos/epoch_400/skill_019_ep_02.mp4\" type=\"video/mp4\"></video><div><center>skill_019_ep_02.mp4</center></div></td></tr><tr></tr></table>"
      ],
      "text/plain": [
       "<IPython.core.display.HTML object>"
      ]
     },
     "execution_count": 13,
     "metadata": {},
     "output_type": "execute_result"
    }
   ],
   "source": [
    "from IPython.display import HTML\n",
    "HTML(html)"
   ]
  },
  {
   "cell_type": "code",
   "execution_count": null,
   "id": "pressing-graphics",
   "metadata": {},
   "outputs": [],
   "source": []
  }
 ],
 "metadata": {
  "kernelspec": {
   "display_name": "Python 3",
   "language": "python",
   "name": "python3"
  },
  "language_info": {
   "codemirror_mode": {
    "name": "ipython",
    "version": 3
   },
   "file_extension": ".py",
   "mimetype": "text/x-python",
   "name": "python",
   "nbconvert_exporter": "python",
   "pygments_lexer": "ipython3",
   "version": "3.8.5"
  }
 },
 "nbformat": 4,
 "nbformat_minor": 5
}
