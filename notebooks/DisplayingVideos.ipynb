{
 "cells": [
  {
   "cell_type": "code",
   "execution_count": 2,
   "id": "civilian-south",
   "metadata": {},
   "outputs": [],
   "source": [
    "from IPython.display import HTML\n",
    "import os\n",
    "import os.path as osp"
   ]
  },
  {
   "cell_type": "code",
   "execution_count": 3,
   "id": "fundamental-celtic",
   "metadata": {},
   "outputs": [],
   "source": [
    "EXP = 'COLLECTING_EPISODES_Sat_Jan_23_13:20:57_2021'\n",
    "EPOCH = 2\n",
    "DIR = osp.join('./experiments', EXP, 'videos', f'epoch_{str(EPOCH)}')\n",
    "\n",
    "COLUMNS = 4"
   ]
  },
  {
   "cell_type": "code",
   "execution_count": null,
   "id": "absolute-hartford",
   "metadata": {},
   "outputs": [],
   "source": [
    "def get_video_html(fname, skill):\n",
    "    return f'<td><video width=\"320\" height=\"320\" controls autoplay loop><source src=\"{fname}\" type=\"video/mp4\"></video><div><center>{skill}</center></div></td>'"
   ]
  },
  {
   "cell_type": "code",
   "execution_count": 5,
   "id": "described-shape",
   "metadata": {},
   "outputs": [
    {
     "data": {
      "text/plain": [
       "['skill_0.mp4', 'skill_1.mp4', 'skill_2.mp4', 'skill_3.mp4']"
      ]
     },
     "execution_count": 5,
     "metadata": {},
     "output_type": "execute_result"
    }
   ],
   "source": [
    "html = \"<table><tr>\"\n",
    "\n",
    "elemnts = 0\n",
    "\n",
    "for skill in sorted(os.listdir(DIR)):\n",
    "    elements += 1\n",
    "    html += get_video_html(osp.join(DIR, skill), skill)\n",
    "    if elements % COLUMNS == 0:\n",
    "        html\n",
    "    \n",
    "html += \"<\\tr><\\table>\""
   ]
  },
  {
   "cell_type": "code",
   "execution_count": 35,
   "id": "applicable-button",
   "metadata": {},
   "outputs": [
    {
     "data": {
      "text/html": [
       "\n",
       "<table>\n",
       "<tr>\n",
       "<td>\n",
       "<video width=\"320\" height=\"320\" controls autoplay loop>\n",
       "  <source src=\"experiments/COLLECTING_EPISODES_Fri_Jan_22_12:33:25_2021/videos/video1.mp4\" type=\"video/mp4\">\n",
       "</video>\n",
       "<div><center>Hello World</center></div>\n",
       "</td>\n",
       "<td>\n",
       "<video width=\"320\" height=\"320\" controls autoplay loop>\n",
       "  <source src=\"experiments/COLLECTING_EPISODES_Fri_Jan_22_12:33:25_2021/videos/video1.mp4\" type=\"video/mp4\">\n",
       "</video>\n",
       "<div><center>Hello World</center></div>\n",
       "</td>\n",
       "</tr>\n",
       "<tr>\n",
       "<td>\n",
       "<video width=\"320\" height=\"320\" controls autoplay loop>\n",
       "  <source src=\"experiments/COLLECTING_EPISODES_Fri_Jan_22_12:33:25_2021/videos/video1.mp4\" type=\"video/mp4\">\n",
       "</video>\n",
       "<div><center>Hello World</center></div>\n",
       "</td>\n",
       "<td>\n",
       "<video width=\"320\" height=\"320\" controls autoplay loop>\n",
       "  <source src=\"experiments/COLLECTING_EPISODES_Fri_Jan_22_12:33:25_2021/videos/video1.mp4\" type=\"video/mp4\">\n",
       "</video>\n",
       "<div><center>Hello World</center></div>\n",
       "</td>\n",
       "</tr>\n",
       "</table>\n"
      ],
      "text/plain": [
       "<IPython.core.display.HTML object>"
      ]
     },
     "execution_count": 35,
     "metadata": {},
     "output_type": "execute_result"
    }
   ],
   "source": [
    "from IPython.display import HTML\n",
    "HTML(\"\"\"\n",
    "<table>\n",
    "<tr>\n",
    "<td>\n",
    "<video width=\"320\" height=\"320\" controls autoplay loop>\n",
    "  <source src=\"experiments/COLLECTING_EPISODES_Fri_Jan_22_12:33:25_2021/videos/video1.mp4\" type=\"video/mp4\">\n",
    "</video>\n",
    "<div><center>Hello World</center></div>\n",
    "</td>\n",
    "<td>\n",
    "<video width=\"320\" height=\"320\" controls autoplay loop>\n",
    "  <source src=\"experiments/COLLECTING_EPISODES_Fri_Jan_22_12:33:25_2021/videos/video1.mp4\" type=\"video/mp4\">\n",
    "</video>\n",
    "<div><center>Hello World</center></div>\n",
    "</td>\n",
    "</tr>\n",
    "<tr>\n",
    "<td>\n",
    "<video width=\"320\" height=\"320\" controls autoplay loop>\n",
    "  <source src=\"experiments/COLLECTING_EPISODES_Fri_Jan_22_12:33:25_2021/videos/video1.mp4\" type=\"video/mp4\">\n",
    "</video>\n",
    "<div><center>Hello World</center></div>\n",
    "</td>\n",
    "<td>\n",
    "<video width=\"320\" height=\"320\" controls autoplay loop>\n",
    "  <source src=\"experiments/COLLECTING_EPISODES_Fri_Jan_22_12:33:25_2021/videos/video1.mp4\" type=\"video/mp4\">\n",
    "</video>\n",
    "<div><center>Hello World</center></div>\n",
    "</td>\n",
    "</tr>\n",
    "</table>\n",
    "\"\"\")"
   ]
  },
  {
   "cell_type": "code",
   "execution_count": null,
   "id": "protected-pottery",
   "metadata": {},
   "outputs": [],
   "source": []
  }
 ],
 "metadata": {
  "kernelspec": {
   "display_name": "Python 3",
   "language": "python",
   "name": "python3"
  },
  "language_info": {
   "codemirror_mode": {
    "name": "ipython",
    "version": 3
   },
   "file_extension": ".py",
   "mimetype": "text/x-python",
   "name": "python",
   "nbconvert_exporter": "python",
   "pygments_lexer": "ipython3",
   "version": "3.8.5"
  }
 },
 "nbformat": 4,
 "nbformat_minor": 5
}
