{
 "cells": [
  {
   "cell_type": "code",
   "execution_count": 2,
   "id": "common-adapter",
   "metadata": {},
   "outputs": [],
   "source": [
    "from IPython.display import HTML\n",
    "import os\n",
    "import os.path as osp"
   ]
  },
  {
   "cell_type": "code",
   "execution_count": 13,
   "id": "infrared-dover",
   "metadata": {},
   "outputs": [
    {
     "data": {
      "text/plain": [
       "['skill_003_ep_01.mp4',\n",
       " 'skill_000_ep_01.mp4',\n",
       " 'skill_000_ep_00.mp4',\n",
       " 'skill_001_ep_00.mp4',\n",
       " 'skill_001_ep_01.mp4',\n",
       " 'skill_002_ep_01.mp4',\n",
       " 'skill_003_ep_00.mp4',\n",
       " 'skill_002_ep_00.mp4']"
      ]
     },
     "execution_count": 13,
     "metadata": {},
     "output_type": "execute_result"
    }
   ],
   "source": [
    "EXP = 'COLLECTING_EPISODES_Sun_Jan_24_02:38:50_2021'\n",
    "EPOCH = 2\n",
    "DIR = osp.join('./experiment', EXP, 'videos', f'epoch_{str(EPOCH)}')\n",
    "\n",
    "COLUMNS = 2\n",
    "\n",
    "os.listdir(DIR)"
   ]
  },
  {
   "cell_type": "code",
   "execution_count": 14,
   "id": "automotive-newman",
   "metadata": {},
   "outputs": [],
   "source": [
    "def get_video_html(fname, skill):\n",
    "    return f'<td><video width=\"320\" height=\"320\" controls autoplay loop><source src=\"{fname}\" type=\"video/mp4\"></video><div><center>{skill}</center></div></td>'"
   ]
  },
  {
   "cell_type": "code",
   "execution_count": 17,
   "id": "guilty-brazil",
   "metadata": {},
   "outputs": [],
   "source": [
    "html = \"<table><tr>\"\n",
    "\n",
    "elements = 0\n",
    "\n",
    "for skill in sorted(os.listdir(DIR)):\n",
    "    elements += 1\n",
    "    html += get_video_html(osp.join(DIR, skill), skill)\n",
    "    if elements % COLUMNS == 0:\n",
    "        html += \"</tr><tr>\"\n",
    "    \n",
    "html += \"</tr></table>\""
   ]
  },
  {
   "cell_type": "code",
   "execution_count": 18,
   "id": "chief-citation",
   "metadata": {},
   "outputs": [
    {
     "data": {
      "text/html": [
       "<table><tr><td><video width=\"320\" height=\"320\" controls autoplay loop><source src=\"./experiment/COLLECTING_EPISODES_Sun_Jan_24_02:38:50_2021/videos/epoch_2/skill_000_ep_00.mp4\" type=\"video/mp4\"></video><div><center>skill_000_ep_00.mp4</center></div></td><td><video width=\"320\" height=\"320\" controls autoplay loop><source src=\"./experiment/COLLECTING_EPISODES_Sun_Jan_24_02:38:50_2021/videos/epoch_2/skill_000_ep_01.mp4\" type=\"video/mp4\"></video><div><center>skill_000_ep_01.mp4</center></div></td></tr><tr><td><video width=\"320\" height=\"320\" controls autoplay loop><source src=\"./experiment/COLLECTING_EPISODES_Sun_Jan_24_02:38:50_2021/videos/epoch_2/skill_001_ep_00.mp4\" type=\"video/mp4\"></video><div><center>skill_001_ep_00.mp4</center></div></td><td><video width=\"320\" height=\"320\" controls autoplay loop><source src=\"./experiment/COLLECTING_EPISODES_Sun_Jan_24_02:38:50_2021/videos/epoch_2/skill_001_ep_01.mp4\" type=\"video/mp4\"></video><div><center>skill_001_ep_01.mp4</center></div></td></tr><tr><td><video width=\"320\" height=\"320\" controls autoplay loop><source src=\"./experiment/COLLECTING_EPISODES_Sun_Jan_24_02:38:50_2021/videos/epoch_2/skill_002_ep_00.mp4\" type=\"video/mp4\"></video><div><center>skill_002_ep_00.mp4</center></div></td><td><video width=\"320\" height=\"320\" controls autoplay loop><source src=\"./experiment/COLLECTING_EPISODES_Sun_Jan_24_02:38:50_2021/videos/epoch_2/skill_002_ep_01.mp4\" type=\"video/mp4\"></video><div><center>skill_002_ep_01.mp4</center></div></td></tr><tr><td><video width=\"320\" height=\"320\" controls autoplay loop><source src=\"./experiment/COLLECTING_EPISODES_Sun_Jan_24_02:38:50_2021/videos/epoch_2/skill_003_ep_00.mp4\" type=\"video/mp4\"></video><div><center>skill_003_ep_00.mp4</center></div></td><td><video width=\"320\" height=\"320\" controls autoplay loop><source src=\"./experiment/COLLECTING_EPISODES_Sun_Jan_24_02:38:50_2021/videos/epoch_2/skill_003_ep_01.mp4\" type=\"video/mp4\"></video><div><center>skill_003_ep_01.mp4</center></div></td></tr><tr></tr></table>"
      ],
      "text/plain": [
       "<IPython.core.display.HTML object>"
      ]
     },
     "execution_count": 18,
     "metadata": {},
     "output_type": "execute_result"
    }
   ],
   "source": [
    "from IPython.display import HTML\n",
    "HTML(html)"
   ]
  },
  {
   "cell_type": "code",
   "execution_count": null,
   "id": "operational-washer",
   "metadata": {},
   "outputs": [],
   "source": []
  }
 ],
 "metadata": {
  "kernelspec": {
   "display_name": "Python 3",
   "language": "python",
   "name": "python3"
  },
  "language_info": {
   "codemirror_mode": {
    "name": "ipython",
    "version": 3
   },
   "file_extension": ".py",
   "mimetype": "text/x-python",
   "name": "python",
   "nbconvert_exporter": "python",
   "pygments_lexer": "ipython3",
   "version": "3.8.5"
  }
 },
 "nbformat": 4,
 "nbformat_minor": 5
}
