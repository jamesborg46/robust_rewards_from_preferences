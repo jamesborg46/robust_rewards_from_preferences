{
 "cells": [
  {
   "cell_type": "code",
   "execution_count": 1,
   "id": "polyphonic-newfoundland",
   "metadata": {},
   "outputs": [],
   "source": [
    "from IPython.display import HTML\n",
    "import os\n",
    "import os.path as osp\n",
    "from collections import defaultdict"
   ]
  },
  {
   "cell_type": "code",
   "execution_count": 2,
   "id": "attractive-valve",
   "metadata": {},
   "outputs": [],
   "source": [
    "EXP = 'TEST_IRL_INITIAL_EXP_0_Mon_Feb__8_09:42:47_2021Mon_Feb__8_09:42:47_2021'\n",
    "DIR = osp.join('./experiment', EXP, 'videos')\n",
    "\n",
    "filenames = [file for file in os.listdir(DIR) if file.endswith('.mp4')]"
   ]
  },
  {
   "cell_type": "code",
   "execution_count": 6,
   "id": "modern-angola",
   "metadata": {},
   "outputs": [
    {
     "data": {
      "text/plain": [
       "[]"
      ]
     },
     "execution_count": 6,
     "metadata": {},
     "output_type": "execute_result"
    }
   ],
   "source": [
    "filenames"
   ]
  },
  {
   "cell_type": "code",
   "execution_count": 3,
   "id": "sound-workshop",
   "metadata": {},
   "outputs": [],
   "source": [
    "def vid_info(fname):\n",
    "    split = fname.strip('.mp4').split('_')\n",
    "    info = dict()\n",
    "    for i in range(0, len(split), 2):\n",
    "        key = split[i]\n",
    "        value = split[i+1]\n",
    "        info[key] = value\n",
    "    info['fname'] = fname\n",
    "    return info\n",
    "\n",
    "def get_video_html(fname, title):\n",
    "    return f'<td><video width=\"320\" height=\"320\" controls autoplay loop><source src=\"{fname}\" type=\"video/mp4\"></video><div><center>{title}</center></div></td>'\n"
   ]
  },
  {
   "cell_type": "code",
   "execution_count": 5,
   "id": "emerging-madrid",
   "metadata": {},
   "outputs": [],
   "source": [
    "# Skills visualization\n",
    "vids = defaultdict(lambda: defaultdict(list))\n",
    "\n",
    "num_skills = 0\n",
    "\n",
    "for f in filenames:\n",
    "    info = vid_info(f)\n",
    "    vids[int(info['epoch'])][int(info['skill'])].append(info['fname'])\n",
    "    \n",
    "    if (int(info['skill']) + 1) > num_skills:\n",
    "        num_skills = int(info['skill']) + 1\n",
    "        \n",
    "EPOCH = 400\n",
    "epoch_vids = vids[EPOCH]\n",
    "eps_per_skill = max([len(eps) for eps in epoch_vids.values()])\n",
    "COLUMNS = eps_per_skill\n",
    "\n",
    "html = \"<table><tr>\"\n",
    "\n",
    "elements = 0\n",
    "\n",
    "for skill in sorted(epoch_vids.keys()):\n",
    "    for fname in epoch_vids[skill]:\n",
    "        html += get_video_html(osp.join(DIR, fname), skill)\n",
    "    html += \"</tr><tr>\"\n",
    "    \n",
    "html += \"</tr></table>\""
   ]
  },
  {
   "cell_type": "code",
   "execution_count": 4,
   "id": "difficult-grain",
   "metadata": {},
   "outputs": [],
   "source": [
    "# Regular visualization\n",
    "vids = defaultdict(list)\n",
    "\n",
    "\n",
    "for f in filenames:\n",
    "    info = vid_info(f)\n",
    "    vids[int(info['epoch'])].append(info['fname'])\n",
    "\n",
    "        \n",
    "EPOCH = 3\n",
    "epoch_vids = vids[EPOCH]\n",
    "COLUMNS = 5\n",
    "\n",
    "html = \"<table><tr>\"\n",
    "\n",
    "elements = 0\n",
    "\n",
    "\n",
    "for i, fname in enumerate(epoch_vids):\n",
    "    html += get_video_html(osp.join(DIR, fname), \"\")\n",
    "    \n",
    "    if i % COLUMNS == 0:\n",
    "        html += \"</tr><tr>\"\n",
    "    \n",
    "html += \"</tr></table>\""
   ]
  },
  {
   "cell_type": "code",
   "execution_count": null,
   "id": "previous-indian",
   "metadata": {},
   "outputs": [],
   "source": []
  },
  {
   "cell_type": "code",
   "execution_count": 5,
   "id": "graphic-carrier",
   "metadata": {},
   "outputs": [
    {
     "data": {
      "text/html": [
       "<table><tr></tr></table>"
      ],
      "text/plain": [
       "<IPython.core.display.HTML object>"
      ]
     },
     "execution_count": 5,
     "metadata": {},
     "output_type": "execute_result"
    }
   ],
   "source": [
    "from IPython.display import HTML\n",
    "HTML(html)"
   ]
  },
  {
   "cell_type": "code",
   "execution_count": null,
   "id": "copyrighted-anthropology",
   "metadata": {},
   "outputs": [],
   "source": []
  }
 ],
 "metadata": {
  "kernelspec": {
   "display_name": "Python 3",
   "language": "python",
   "name": "python3"
  },
  "language_info": {
   "codemirror_mode": {
    "name": "ipython",
    "version": 3
   },
   "file_extension": ".py",
   "mimetype": "text/x-python",
   "name": "python",
   "nbconvert_exporter": "python",
   "pygments_lexer": "ipython3",
   "version": "3.8.5"
  }
 },
 "nbformat": 4,
 "nbformat_minor": 5
}
