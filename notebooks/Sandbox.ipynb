{
 "cells": [
  {
   "cell_type": "code",
   "execution_count": 1,
   "id": "catholic-pursuit",
   "metadata": {},
   "outputs": [],
   "source": [
    "import os\n",
    "import os.path as osp\n",
    "import pickle\n",
    "import time\n",
    "from typing import NamedTuple\n",
    "import sys\n",
    "module_path = os.path.abspath(os.path.join('..'))\n",
    "if module_path not in sys.path:\n",
    "    sys.path.append(module_path)\n",
    "\n",
    "from mujoco_py import const\n",
    "import wrappers\n",
    "import matplotlib.pyplot as plt\n",
    "from matplotlib.pyplot import figure\n",
    "import numpy as np\n",
    "import torch\n",
    "import torch.nn.functional as F\n",
    "import copy\n",
    "\n",
    "from garage import EpisodeBatch\n",
    "import torch\n",
    "from torch import nn\n",
    "from torchsummary import summary_string\n",
    "\n",
    "# import dowel\n",
    "# from dowel import logger, tabular\n",
    "import gym\n",
    "\n",
    "from garage.torch.modules import MLPModule\n",
    "torch.set_num_threads(4)\n",
    "from buffers import PreferenceCollector, LabelAnnealer, SyntheticPreferenceCollector\n",
    "from reward_predictors import PrefMLP\n",
    "\n",
    "import wandb"
   ]
  },
  {
   "cell_type": "code",
   "execution_count": 2,
   "id": "federal-authority",
   "metadata": {},
   "outputs": [],
   "source": [
    "def get_episodes(exps, epochs):  \n",
    "    episodes = []    \n",
    "    for exp in exps:\n",
    "        for epoch in epochs:\n",
    "            filename = osp.join('./experiment', exp, 'episode_logs', f'episode_{str(epoch)}.pkl')        \n",
    "            with open(filename, 'rb') as f:\n",
    "                episodes.append(pickle.load(f))\n",
    "    episodes = EpisodeBatch.concatenate(*episodes)\n",
    "    return episodes"
   ]
  },
  {
   "cell_type": "code",
   "execution_count": 3,
   "id": "portable-toronto",
   "metadata": {},
   "outputs": [
    {
     "name": "stderr",
     "output_type": "stream",
     "text": [
      "/opt/conda/lib/python3.8/site-packages/gym/logger.py:30: UserWarning: \u001b[33mWARN: Box bound precision lowered by casting to float32\u001b[0m\n",
      "  warnings.warn(colorize('%s: %s'%('WARN', msg % args), 'yellow'))\n"
     ]
    }
   ],
   "source": [
    "with open(osp.join('./experiment', 'DIVERSITY_ALPHA_05_Mon_Feb__1_09:36:50_2021', 'env.pkl'), 'rb') as f:\n",
    "    env = pickle.load(f)\n",
    "    \n",
    "with open(osp.join('./experiment', 'DIVERSITY_RUN_0_Thu_Feb__4_13:04:03_2021', 'env.pkl'), 'rb') as f:\n",
    "    reversed_env = pickle.load(f)\n",
    "\n",
    "eps = get_episodes(['DIVERSITY_ALPHA_05_Mon_Feb__1_09:36:50_2021'], [200])\n",
    "    \n",
    "# val_eps = get_episodes(\n",
    "#     exps=['DIVERSITY_RUN_0_Thu_Feb__4_07:46:02_2021', 'DIVERSITY_RUN_1_Thu_Feb__4_07:46:05_2021',\n",
    "#     'DIVERSITY_RUN_2_Thu_Feb__4_07:46:09_2021', 'DIVERSITY_RUN_3_Thu_Feb__4_07:46:11_2021'], \n",
    "#     epochs=[200, 400])\n",
    "\n",
    "# reversed_eps = get_episodes(\n",
    "#     exps=['DIVERSITY_RUN_0_Thu_Feb__4_13:04:03_2021', 'DIVERSITY_RUN_1_Thu_Feb__4_13:04:06_2021',\n",
    "#     'DIVERSITY_RUN_2_Thu_Feb__4_13:04:13_2021', 'DIVERSITY_RUN_3_Thu_Feb__4_13:04:17_2021'], \n",
    "#     epochs=[200])\n",
    "\n",
    "# space = env.spec.observation_space\n",
    "# skip = 40\n",
    "# observations = np.array([space.flatten_with_keys(x, keys=['state']) for x in eps.observations[::skip]])\n",
    "# rewards = eps.env_infos['gt_reward'][::skip]\n",
    "# assert len(observations) == len(rewards)"
   ]
  },
  {
   "cell_type": "code",
   "execution_count": 4,
   "id": "swiss-catering",
   "metadata": {},
   "outputs": [],
   "source": [
    "label_anealler = LabelAnnealer(100, 200, 0)\n",
    "pref_collector = SyntheticPreferenceCollector(env.spec, label_anealler, max_capacity=10000)"
   ]
  },
  {
   "cell_type": "code",
   "execution_count": 5,
   "id": "empty-joseph",
   "metadata": {},
   "outputs": [],
   "source": [
    "pref_collector.collect(eps.to_list())"
   ]
  },
  {
   "cell_type": "code",
   "execution_count": 6,
   "id": "pointed-result",
   "metadata": {},
   "outputs": [],
   "source": [
    "pref_collector.sample_comparisons(101)"
   ]
  },
  {
   "cell_type": "code",
   "execution_count": 7,
   "id": "prescription-disney",
   "metadata": {},
   "outputs": [],
   "source": [
    "pref_collector.label_unlabeled_comparisons()"
   ]
  },
  {
   "cell_type": "code",
   "execution_count": 8,
   "id": "suspended-newport",
   "metadata": {},
   "outputs": [],
   "source": [
    "reward_predictor = PrefMLP(\n",
    "    env_spec=env.spec,\n",
    "    preference_collector=pref_collector,\n",
    ")"
   ]
  },
  {
   "cell_type": "code",
   "execution_count": 9,
   "id": "built-thesis",
   "metadata": {},
   "outputs": [],
   "source": [
    "reward_predictor._train_once()"
   ]
  },
  {
   "cell_type": "code",
   "execution_count": 10,
   "id": "loose-bristol",
   "metadata": {},
   "outputs": [],
   "source": [
    "itr = 1\n",
    "paths = eps.to_list()[0:10]"
   ]
  },
  {
   "cell_type": "code",
   "execution_count": 11,
   "id": "treated-alfred",
   "metadata": {},
   "outputs": [],
   "source": [
    "paths = reward_predictor.predict_rewards(itr, paths)"
   ]
  },
  {
   "cell_type": "code",
   "execution_count": 22,
   "id": "lyric-basic",
   "metadata": {},
   "outputs": [],
   "source": [
    "from garage.torch import np_to_torch\n",
    "\n",
    "inp = np_to_torch(env.spec.observation_space.flatten_n(eps.observations[0:4]))"
   ]
  },
  {
   "cell_type": "code",
   "execution_count": 30,
   "id": "plain-overhead",
   "metadata": {},
   "outputs": [
    {
     "data": {
      "text/plain": [
       "4"
      ]
     },
     "execution_count": 30,
     "metadata": {},
     "output_type": "execute_result"
    }
   ],
   "source": [
    "reward_predictor(inp.reshape(1,1,4,96)).ndim"
   ]
  },
  {
   "cell_type": "code",
   "execution_count": 14,
   "id": "individual-conditions",
   "metadata": {},
   "outputs": [
    {
     "data": {
      "text/plain": [
       "buffers.preference_collector.PreferenceCollector"
      ]
     },
     "execution_count": 14,
     "metadata": {},
     "output_type": "execute_result"
    }
   ],
   "source": [
    "eval('PreferenceCollector')"
   ]
  },
  {
   "cell_type": "code",
   "execution_count": 17,
   "id": "cosmetic-mount",
   "metadata": {},
   "outputs": [],
   "source": [
    "import argparse\n",
    "parser = argparse.ArgumentParser()\n",
    "parser.add_argument('--name', type=str)\n",
    "args = parser.parse_args(['--name', 'bob'])"
   ]
  },
  {
   "cell_type": "code",
   "execution_count": 19,
   "id": "loose-samba",
   "metadata": {},
   "outputs": [
    {
     "data": {
      "text/plain": [
       "'bob'"
      ]
     },
     "execution_count": 19,
     "metadata": {},
     "output_type": "execute_result"
    }
   ],
   "source": [
    "args.name"
   ]
  },
  {
   "cell_type": "code",
   "execution_count": 26,
   "id": "correct-bargain",
   "metadata": {},
   "outputs": [],
   "source": [
    "import envs.custom_safety_envs\n",
    "env_ = gym.make('Safexp-PointIRLGoalThree-v0')"
   ]
  },
  {
   "cell_type": "code",
   "execution_count": 29,
   "id": "supposed-reduction",
   "metadata": {},
   "outputs": [],
   "source": [
    "env_.spec.max_episode_steps"
   ]
  },
  {
   "cell_type": "code",
   "execution_count": null,
   "id": "modified-craft",
   "metadata": {},
   "outputs": [],
   "source": []
  },
  {
   "cell_type": "code",
   "execution_count": 30,
   "id": "hearing-accident",
   "metadata": {},
   "outputs": [
    {
     "data": {
      "text/plain": [
       "500"
      ]
     },
     "execution_count": 30,
     "metadata": {},
     "output_type": "execute_result"
    }
   ],
   "source": [
    "from garage.envs import GymEnv\n",
    "GymEnv(env_, max_episode_length=500).spec.max_episode_length"
   ]
  },
  {
   "cell_type": "code",
   "execution_count": null,
   "id": "unknown-powell",
   "metadata": {},
   "outputs": [],
   "source": []
  }
 ],
 "metadata": {
  "kernelspec": {
   "display_name": "Python 3",
   "language": "python",
   "name": "python3"
  },
  "language_info": {
   "codemirror_mode": {
    "name": "ipython",
    "version": 3
   },
   "file_extension": ".py",
   "mimetype": "text/x-python",
   "name": "python",
   "nbconvert_exporter": "python",
   "pygments_lexer": "ipython3",
   "version": "3.8.5"
  }
 },
 "nbformat": 4,
 "nbformat_minor": 5
}
