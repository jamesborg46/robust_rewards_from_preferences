{
 "cells": [
  {
   "cell_type": "code",
   "execution_count": 6,
   "id": "reported-shore",
   "metadata": {},
   "outputs": [],
   "source": [
    "import gym\n",
    "\n",
    "import os\n",
    "import sys\n",
    "module_path = os.path.abspath(os.path.join('..'))\n",
    "if module_path not in sys.path:\n",
    "    sys.path.append(module_path)\n",
    "\n",
    "import envs.custom_safety_envs    \n",
    "\n",
    "from garage.envs import GymEnv\n",
    "from wrappers import DiversityWrapper, SafetyEnvStateAppender, Renderer"
   ]
  },
  {
   "cell_type": "code",
   "execution_count": 19,
   "id": "explicit-silver",
   "metadata": {},
   "outputs": [],
   "source": [
    "env = gym.make('Safexp-PointGoal0-v0')\n",
    "env1 = DiversityWrapper(env, number_skills=20)\n",
    "env2 = SafetyEnvStateAppender(env1)\n",
    "env3 = Renderer(env2, os.path.join('.', 'videos'))\n",
    "env4 = GymEnv(env3, max_episode_length=1000)"
   ]
  },
  {
   "cell_type": "code",
   "execution_count": 11,
   "id": "devoted-excellence",
   "metadata": {},
   "outputs": [
    {
     "data": {
      "text/plain": [
       "{'render.modes': []}"
      ]
     },
     "execution_count": 11,
     "metadata": {},
     "output_type": "execute_result"
    }
   ],
   "source": [
    "env.metadata"
   ]
  },
  {
   "cell_type": "code",
   "execution_count": 13,
   "id": "ideal-conclusion",
   "metadata": {},
   "outputs": [],
   "source": [
    "env.set_skill(2)"
   ]
  },
  {
   "cell_type": "code",
   "execution_count": 15,
   "id": "dress-federal",
   "metadata": {},
   "outputs": [
    {
     "data": {
      "text/plain": [
       "{'render.modes': [], 'skill': 2, 'ep_name': 'skill_2'}"
      ]
     },
     "execution_count": 15,
     "metadata": {},
     "output_type": "execute_result"
    }
   ],
   "source": [
    "env.metadata"
   ]
  },
  {
   "cell_type": "code",
   "execution_count": 36,
   "id": "otherwise-privilege",
   "metadata": {},
   "outputs": [
    {
     "data": {
      "text/plain": [
       "'skill_2'"
      ]
     },
     "execution_count": 36,
     "metadata": {},
     "output_type": "execute_result"
    }
   ],
   "source": [
    "env4._env.metadata.get('ep_name')"
   ]
  },
  {
   "cell_type": "code",
   "execution_count": 37,
   "id": "premier-fence",
   "metadata": {},
   "outputs": [
    {
     "data": {
      "text/plain": [
       "array([ 0.        ,  0.        ,  9.81      ,  0.        ,  0.        ,\n",
       "        0.        ,  0.51500891,  0.59559477,  0.08058586,  0.        ,\n",
       "        0.        ,  0.        ,  0.        ,  0.        ,  0.        ,\n",
       "        0.        ,  0.        ,  0.        ,  0.        ,  0.        ,\n",
       "        0.        ,  0.        ,  0.11540385, -0.48649969,  0.        ,\n",
       "        0.        ,  0.        ,  0.        ])"
      ]
     },
     "execution_count": 37,
     "metadata": {},
     "output_type": "execute_result"
    }
   ],
   "source": [
    "env.reset()"
   ]
  },
  {
   "cell_type": "code",
   "execution_count": 38,
   "id": "colored-orleans",
   "metadata": {},
   "outputs": [
    {
     "data": {
      "text/plain": [
       "{'render.modes': [], 'skill': 2, 'ep_name': 'skill_2'}"
      ]
     },
     "execution_count": 38,
     "metadata": {},
     "output_type": "execute_result"
    }
   ],
   "source": [
    "env.metadata"
   ]
  },
  {
   "cell_type": "code",
   "execution_count": 41,
   "id": "proper-forest",
   "metadata": {},
   "outputs": [],
   "source": [
    "env4._env.env.metadata['ep_name'] = 'pooey'"
   ]
  },
  {
   "cell_type": "code",
   "execution_count": 42,
   "id": "brilliant-president",
   "metadata": {},
   "outputs": [
    {
     "data": {
      "text/plain": [
       "{'render.modes': [], 'skill': 2, 'ep_name': 'pooey'}"
      ]
     },
     "execution_count": 42,
     "metadata": {},
     "output_type": "execute_result"
    }
   ],
   "source": [
    "env4.metadata"
   ]
  },
  {
   "cell_type": "code",
   "execution_count": 43,
   "id": "placed-hours",
   "metadata": {},
   "outputs": [],
   "source": [
    "import copy"
   ]
  },
  {
   "cell_type": "code",
   "execution_count": 44,
   "id": "legislative-canadian",
   "metadata": {},
   "outputs": [],
   "source": [
    "copied_env = copy.deepcopy(env4)"
   ]
  },
  {
   "cell_type": "code",
   "execution_count": 48,
   "id": "excellent-alexander",
   "metadata": {},
   "outputs": [
    {
     "data": {
      "text/plain": [
       "{'render.modes': [], 'skill': 2, 'ep_name': 'wowser'}"
      ]
     },
     "execution_count": 48,
     "metadata": {},
     "output_type": "execute_result"
    }
   ],
   "source": [
    "copied_env.metadata"
   ]
  },
  {
   "cell_type": "code",
   "execution_count": 47,
   "id": "modern-fiber",
   "metadata": {},
   "outputs": [],
   "source": [
    "copied_env._env.env.metadata['ep_name'] = 'wowser'"
   ]
  },
  {
   "cell_type": "code",
   "execution_count": 49,
   "id": "known-desire",
   "metadata": {},
   "outputs": [
    {
     "data": {
      "text/plain": [
       "{'render.modes': [], 'skill': 2, 'ep_name': 'wowser'}"
      ]
     },
     "execution_count": 49,
     "metadata": {},
     "output_type": "execute_result"
    }
   ],
   "source": [
    "copied_env._env.metadata"
   ]
  },
  {
   "cell_type": "code",
   "execution_count": 50,
   "id": "pleased-bread",
   "metadata": {},
   "outputs": [
    {
     "data": {
      "text/plain": [
       "47353639328448"
      ]
     },
     "execution_count": 50,
     "metadata": {},
     "output_type": "execute_result"
    }
   ],
   "source": [
    "id(env4.metadata)"
   ]
  },
  {
   "cell_type": "code",
   "execution_count": 51,
   "id": "breeding-concept",
   "metadata": {},
   "outputs": [
    {
     "data": {
      "text/plain": [
       "47353639328448"
      ]
     },
     "execution_count": 51,
     "metadata": {},
     "output_type": "execute_result"
    }
   ],
   "source": [
    "id(env4._env.env.metadata)"
   ]
  },
  {
   "cell_type": "code",
   "execution_count": 52,
   "id": "phantom-colombia",
   "metadata": {},
   "outputs": [
    {
     "data": {
      "text/plain": [
       "47353639328448"
      ]
     },
     "execution_count": 52,
     "metadata": {},
     "output_type": "execute_result"
    }
   ],
   "source": [
    "id(env4._env.env.env.metadata)"
   ]
  },
  {
   "cell_type": "code",
   "execution_count": 54,
   "id": "large-pickup",
   "metadata": {},
   "outputs": [
    {
     "data": {
      "text/plain": [
       "safety_gym.envs.engine.Engine"
      ]
     },
     "execution_count": 54,
     "metadata": {},
     "output_type": "execute_result"
    }
   ],
   "source": [
    "type(env4._env.env.env.env)"
   ]
  },
  {
   "cell_type": "code",
   "execution_count": 56,
   "id": "falling-mistake",
   "metadata": {},
   "outputs": [
    {
     "data": {
      "text/plain": [
       "47353639328448"
      ]
     },
     "execution_count": 56,
     "metadata": {},
     "output_type": "execute_result"
    }
   ],
   "source": [
    "id(env4._env.env.env.env.metadata)"
   ]
  },
  {
   "cell_type": "code",
   "execution_count": 70,
   "id": "liquid-orbit",
   "metadata": {},
   "outputs": [],
   "source": [
    "copied_env = copy.deepcopy(env4)"
   ]
  },
  {
   "cell_type": "code",
   "execution_count": 72,
   "id": "optical-trial",
   "metadata": {},
   "outputs": [
    {
     "name": "stdout",
     "output_type": "stream",
     "text": [
      "47359527291136\n",
      "47359527291136\n",
      "47359527291136\n",
      "47359527291136\n",
      "47353639328448\n"
     ]
    }
   ],
   "source": [
    "print(id(copied_env.metadata))\n",
    "print(id(copied_env._env.metadata))\n",
    "print(id(copied_env._env.env.metadata))\n",
    "print(id(copied_env._env.env.env.metadata))\n",
    "print(id(copied_env._env.env.env.env.metadata))"
   ]
  },
  {
   "cell_type": "code",
   "execution_count": 71,
   "id": "developmental-interpretation",
   "metadata": {},
   "outputs": [
    {
     "name": "stdout",
     "output_type": "stream",
     "text": [
      "47353639328448\n",
      "47353639328448\n",
      "47353639328448\n",
      "47353639328448\n",
      "47353639328448\n"
     ]
    }
   ],
   "source": [
    "print(id(env4.metadata))\n",
    "print(id(env4._env.metadata))\n",
    "print(id(env4._env.env.metadata))\n",
    "print(id(env4._env.env.env.metadata))\n",
    "print(id(env4._env.env.env.env.metadata))"
   ]
  },
  {
   "cell_type": "code",
   "execution_count": 69,
   "id": "verified-sapphire",
   "metadata": {},
   "outputs": [
    {
     "data": {
      "text/plain": [
       "wrappers.diversity_wrapper.DiversityWrapper"
      ]
     },
     "execution_count": 69,
     "metadata": {},
     "output_type": "execute_result"
    }
   ],
   "source": [
    "type(env4._env.env.env)"
   ]
  },
  {
   "cell_type": "code",
   "execution_count": null,
   "id": "tracked-religious",
   "metadata": {},
   "outputs": [],
   "source": []
  }
 ],
 "metadata": {
  "kernelspec": {
   "display_name": "Python 3",
   "language": "python",
   "name": "python3"
  },
  "language_info": {
   "codemirror_mode": {
    "name": "ipython",
    "version": 3
   },
   "file_extension": ".py",
   "mimetype": "text/x-python",
   "name": "python",
   "nbconvert_exporter": "python",
   "pygments_lexer": "ipython3",
   "version": "3.8.5"
  }
 },
 "nbformat": 4,
 "nbformat_minor": 5
}
